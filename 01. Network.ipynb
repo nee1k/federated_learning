{
 "cells": [
  {
   "cell_type": "markdown",
   "id": "af5de18d",
   "metadata": {},
   "source": [
    "<h3 style=\"color:red;\">---------- Make sure the Docker service running before running this notebook ----------</h3>"
   ]
  },
  {
   "cell_type": "markdown",
   "id": "be19b791",
   "metadata": {},
   "source": [
    "# Section 1: Launching HaGrid nodes"
   ]
  },
  {
   "cell_type": "code",
   "execution_count": 1,
   "id": "bd93414e",
   "metadata": {
    "scrolled": true
   },
   "outputs": [
    {
     "name": "stdout",
     "output_type": "stream",
     "text": [
      "\u001b[2K✅ Updated HAGrid from branch: \u001b[1;36m0.7\u001b[0m.\u001b[1;36m0\u001b[0mm\n",
      "\u001b[2K\u001b[32m⠴\u001b[0m \u001b[1;34mUpdating HAGrid from branch: 0.7.0\u001b[0m\n",
      "\u001b[2K\u001b[32m⠼\u001b[0m \u001b[1;34mChecking for Docker Service\u001b[0m   ice\u001b[0m   \n",
      "\u001b[1A\u001b[2K✅ Docker service is running\n",
      "✅ Git 2.37.1\n",
      "✅ Docker 20.10.22\n",
      "✅ Docker Compose 2.15.1\n",
      "\n",
      "\n",
      "                                             `\n",
      "                                         `.+yys/.`\n",
      "                                       ``/NMMMNNs`\n",
      "                                    `./shNMMMMMMNs``    `..`\n",
      "                                  `-smNMMNNMMMMMMN/.``......`\n",
      "                                `.yNMMMMNmmmmNNMMm/.`....`\n",
      "                              `:sdNMMMMMMNNNNddddds-`.`` `--. `\n",
      "                           `.+dNNNNMMMMMMMMMNNNNmddohmh//hddy/.```..`\n",
      "                          `-hNMMMMMMMMMMMMNNdmNNMNNdNNd:sdyoo+/++:..`\n",
      "                        ../mMMMMMMMMMMMMMMNNmmmmNMNmNNmdmd/hNNNd+:`\n",
      "                        `:mMNNMMMMMMMMMMMMNMNNmmmNNNNNdNNd/NMMMMm::\n",
      "                       `:mMNNNMMMMMMMMMMMMMMMNNNNdNMNNmmNd:smMMmh//\n",
      "                     ``/mMMMMMMMMMMMMMMMMMMMMMMNmdmNNMMNNNy/osoo/-`\n",
      "                    `-sNMMMMMMMMMMMMMMMMMMMMMMMMNNmmMMMMNh-....`\n",
      "                   `/dNMMMMMMMMMMMMMMMMMMMMMMMMMMMNNMMMNy.`\n",
      "                ``.omNNMMMMMMMMMMMMNMMMMMMMNmmmmNNMMMMN+`\n",
      "                `:hmNNMMMMMMMMMMMNo/ohNNNNho+os+-+hNys/`\n",
      "                -mNNNNNNMMMMMMMMm+``-yNdd+/mMMMms.-:`\n",
      "                .+dmNNNNMMMMMMNd:``:dNN+y`oMMMMMm-.`\n",
      "                `+dmmmNNNmmmmy+.   `-+m/s/+MMMMm/--\n",
      "               `+mmmhNy/-...```     ``-.-sosyys+/-`\n",
      "            ``.smmmsoo``               .oh+-:/:.\n",
      "          `.:odmdh/````             `.+d+``````\n",
      "     ```/sydNdhy+.`              ``-sds.\n",
      "    `:hdmhs::-````               `oNs.`\n",
      "```.sdmh/``                    `-ym+`\n",
      " ``ssy+`                     `-yms.`\n",
      "   ``                      `:hNy-``\n",
      "   `                     `-yMN/```\n",
      "                       `-yNhy-\n",
      "                     `/yNd/`\n",
      "                   `:dNMs``\n",
      "                 `.+mNy/.`\n",
      "              `.+hNMMs``\n",
      "             `:dMMMMh.`\n",
      "\n",
      " _   _       _     _                 _   _                       _\n",
      "| | | |     | |   | |               | | | |                     | |\n",
      "| |_| | ___ | | __| |   ___  _ __   | |_| | __ _ _ __ _ __ _   _| |\n",
      "|  _  |/ _ \\| |/ _` |  / _ \\| '_ \\  |  _  |/ _` | '__| '__| | | | |\n",
      "| | | | (_) | | (_| | | (_) | | | | | | | | (_| | |  | |  | |_| |_|\n",
      "\\_| |_/\\___/|_|\\__,_|  \\___/|_| |_| \\_| |_/\\__,_|_|  |_|   \\__, (_)\n",
      "                                                            __/ |\n",
      "                                                           |___/\n",
      "        \n",
      "Launching a PyGrid Network node on port 8000!\n",
      "\n",
      "  - NAME: local_network\n",
      "  - RELEASE: production\n",
      "  - ARCH: linux/arm64\n",
      "  - TYPE: network\n",
      "  - DOCKER_TAG: latest\n",
      "  - HAGRID_VERSION: 0.2.126\n",
      "  - PORT: 8000\n",
      "  - DOCKER COMPOSE: v2.15.1\n",
      "\n",
      "\n",
      "\u001b[1;32m⠋\u001b[0m\u001b[1;34m Launching Containers \u001b[0m\u001b[1;32m \u001b[0m\n",
      "\u001b[2K  ✅ \u001b[1;32mPulling [9 / 9]\u001b[0m \u001b[90m━━━━━━━━━━━━━━━━━━━━━━━━━━━━━━━━━━━━━━━━\u001b[0m \u001b[35m100.00%   \u001b[0m0m \u001b[35m88.89%   \u001b[0m\n",
      "\u001b[2K  ✅ \u001b[1;32mLaunching [9 / 9]\u001b[0m \u001b[90m━━━━━━━━━━━━━━━━━━━━━━━━━━━━━━━━━━━━━━━━\u001b[0m \u001b[35m100.00%   \u001b[0m[0m \u001b[35m88.89%   \u001b[0m\n",
      "\u001b[?25h\n",
      "\u001b[1;32m⠋\u001b[0m\u001b[1;34m Checking node API \u001b[0m\u001b[1;32m \u001b[0m   \n",
      "\u001b[2K✅ local_network Network Containers Createdeation\u001b[0m0m\n",
      "\u001b[2K✅ Backendm \u001b[1;91mStarting Backend\u001b[0meation\u001b[0m\n",
      "\u001b[2K✅ Startup Completeting Backend\u001b[0m\n",
      "\u001b[2K\u001b[32m⠙\u001b[0m \u001b[1;91mStarting Backend\u001b[0m\n",
      "\u001b[1A\u001b[2K┏━━━━━━━━━━━┳━━━━━━━━━━━━━━━━━━━━━━━━━━━━━━━━━━━━━━━━━━━┳━━━━━┓\n",
      "┃\u001b[1m \u001b[0m\u001b[1mPyGrid   \u001b[0m\u001b[1m \u001b[0m┃\u001b[1m \u001b[0m\u001b[1mInfo                                     \u001b[0m\u001b[1m \u001b[0m┃\u001b[1m \u001b[0m\u001b[1m600\u001b[0m\u001b[1m \u001b[0m┃\n",
      "┡━━━━━━━━━━━╇━━━━━━━━━━━━━━━━━━━━━━━━━━━━━━━━━━━━━━━━━━━╇━━━━━┩\n",
      "│\u001b[35m \u001b[0m\u001b[35mUI (βeta)\u001b[0m\u001b[35m \u001b[0m│ http://localhost:8000/login               │ ✅  │\n",
      "│\u001b[35m \u001b[0m\u001b[35mapi      \u001b[0m\u001b[35m \u001b[0m│ http://localhost:8000/api/v1/openapi.json │ ✅  │\n",
      "└───────────┴───────────────────────────────────────────┴─────┘\n",
      "╭─────────────────────────────────────────────────────────╮\n",
      "│ ✨ To view container logs run \u001b[1;32mhagrid logs local_network\u001b[0m │\n",
      "╰─────────────────────────────────────────────────────────╯\n"
     ]
    }
   ],
   "source": [
    "! hagrid launch {\"LOCAL_NETWORK\"} network to docker:8000 --build-src=0.7.0"
   ]
  },
  {
   "cell_type": "code",
   "execution_count": 2,
   "id": "7e505faa",
   "metadata": {
    "scrolled": true
   },
   "outputs": [
    {
     "name": "stdout",
     "output_type": "stream",
     "text": [
      "Connecting to localhost... done! \t Logging into local_network... as GUEST...done!\n"
     ]
    }
   ],
   "source": [
    "from utils import *\n",
    "\n",
    "local_network = sy.login(\"localhost\", 8000)"
   ]
  },
  {
   "cell_type": "markdown",
   "id": "a9ee7501",
   "metadata": {},
   "source": [
    "<h3 style=\"color:red;\">---------- Run Sections 1 in Domain_1 and Domain_2 notebooks ----------</h3>"
   ]
  },
  {
   "cell_type": "code",
   "execution_count": 4,
   "id": "84cd5696",
   "metadata": {},
   "outputs": [
    {
     "data": {
      "text/html": [
       "<div>\n",
       "<style scoped>\n",
       "    .dataframe tbody tr th:only-of-type {\n",
       "        vertical-align: middle;\n",
       "    }\n",
       "\n",
       "    .dataframe tbody tr th {\n",
       "        vertical-align: top;\n",
       "    }\n",
       "\n",
       "    .dataframe thead th {\n",
       "        text-align: right;\n",
       "    }\n",
       "</style>\n",
       "<table border=\"1\" class=\"dataframe\">\n",
       "  <thead>\n",
       "    <tr style=\"text-align: right;\">\n",
       "      <th></th>\n",
       "      <th>host_or_ip</th>\n",
       "      <th>id</th>\n",
       "      <th>is_vpn</th>\n",
       "      <th>name</th>\n",
       "      <th>port</th>\n",
       "      <th>private</th>\n",
       "      <th>protocol</th>\n",
       "    </tr>\n",
       "  </thead>\n",
       "  <tbody>\n",
       "    <tr>\n",
       "      <th>0</th>\n",
       "      <td>100.64.0.2</td>\n",
       "      <td>6f82b41b82c145c58c966a581a65e585</td>\n",
       "      <td>1</td>\n",
       "      <td>domain_1</td>\n",
       "      <td>80</td>\n",
       "      <td>0</td>\n",
       "      <td>http</td>\n",
       "    </tr>\n",
       "    <tr>\n",
       "      <th>1</th>\n",
       "      <td>100.64.0.3</td>\n",
       "      <td>dbe40ab327af41cdae501872adbc193e</td>\n",
       "      <td>1</td>\n",
       "      <td>domain_2</td>\n",
       "      <td>80</td>\n",
       "      <td>0</td>\n",
       "      <td>http</td>\n",
       "    </tr>\n",
       "  </tbody>\n",
       "</table>\n",
       "</div>"
      ],
      "text/plain": [
       "<syft.core.node.common.client_manager.domain_api.DomainRequestAPI at 0x297a21970>"
      ]
     },
     "execution_count": 4,
     "metadata": {},
     "output_type": "execute_result"
    }
   ],
   "source": [
    "local_network.domains"
   ]
  },
  {
   "cell_type": "markdown",
   "id": "aeaad0bc",
   "metadata": {},
   "source": [
    "---\n",
    "\n",
    "# Section 2 : Train the dataset and Upload Weights\n",
    "\n",
    "Generally, when you have to deal with image, text, audio or video data,\n",
    "you can use standard python packages that load data into a numpy array.\n",
    "Then you can convert this array into a ``torch.*Tensor``.\n",
    "\n",
    "-  For images, packages such as Pillow, OpenCV are useful\n",
    "-  For audio, packages such as scipy and librosa\n",
    "-  For text, either raw Python or Cython based loading, or NLTK and\n",
    "   SpaCy are useful\n",
    "\n",
    "Specifically for vision, we have created a package called\n",
    "``torchvision``, that has data loaders for common datasets such as\n",
    "ImageNet, CIFAR10, MNIST, etc. and data transformers for images, viz.,\n",
    "``torchvision.datasets`` and ``torch.utils.data.DataLoader``.\n",
    "\n",
    "This provides a huge convenience and avoids writing boilerplate code.\n",
    "\n",
    "\n",
    "### 2. 0. Training an image classifier\n",
    "\n",
    "We will do the following steps in order:\n",
    "\n",
    "1. Load and normalize the CIFAR10 training and test datasets using\n",
    "   ``torchvision``\n",
    "2. Define a Convolutional Neural Network\n",
    "3. Define a loss function\n",
    "4. Train the network on the training data\n",
    "5. Test the network on the test data\n",
    "\n",
    "#### 2. 1. Load and normalize CIFAR10\n",
    "\n",
    "Using ``torchvision``, it’s extremely easy to load CIFAR10.\n",
    "\n",
    "The output of torchvision datasets are PILImage images of range [0, 1].\n",
    "We transform them to Tensors of normalized range [-1, 1].\n",
    "\n",
    "Federated learning can be applied to many different types of tasks across different domains. In this tutorial, we introduce federated learning by training a simple convolutional neural network (CNN) on the popular CIFAR-10 dataset. CIFAR-10 can be used to train image classifiers that distinguish between images from ten different classes:\n",
    "\n",
    "We simulate having multiple datasets from multiple organizations (also called the \"cross-silo\" setting in federated learning) by splitting the original CIFAR-10 dataset into multiple partitions. Each partition will represent the data from a single organization. We're doing this purely for experimentation purposes, in the real world there's no need for data splitting because each organization already has their own data (so the data is naturally partitioned).\n",
    "\n",
    "Each organization will act as a client in the federated learning system. So having ten organizations participate in a federation means having ten clients connected to the federated learning server:\n",
    "\n",
    "\n",
    "\n",
    "Let's now load the CIFAR-10 training and test set, partition them into ten smaller datasets (each split into training and validation set), and wrap the resulting partitions by creating a PyTorch `DataLoader` for each of them:"
   ]
  },
  {
   "cell_type": "code",
   "execution_count": 5,
   "id": "faf33182",
   "metadata": {
    "executionInfo": {
     "elapsed": 52,
     "status": "ok",
     "timestamp": 1672389417967,
     "user": {
      "displayName": "Santhosh Kumar Varanasi",
      "userId": "10492144900142893568"
     },
     "user_tz": -330
    },
    "id": "-tpk_Zv37ONm"
   },
   "outputs": [
    {
     "name": "stdout",
     "output_type": "stream",
     "text": [
      "Files already downloaded and verified\n",
      "Files already downloaded and verified\n",
      "\n",
      "Number of train images in domain 2: 141\n",
      "\n",
      "Number of val images in domain 2: 16\n",
      "\n",
      "Number of test images in domain 2: 32\n"
     ]
    }
   ],
   "source": [
    "num_clients = 10\n",
    "manual_seed = 100\n",
    "trainloaders, valloaders, testloaders = load_datasets(num_clients, manual_seed)\n",
    "\n",
    "print(\"\\nNumber of train images in domain 2:\", len(trainloaders[0]))\n",
    "print(\"\\nNumber of val images in domain 2:\", len(valloaders[0]))\n",
    "print(\"\\nNumber of test images in domain 2:\", len(testloaders[0]))"
   ]
  },
  {
   "cell_type": "markdown",
   "id": "d9ecd28b",
   "metadata": {},
   "source": [
    "The output above shows a random batch of images from the first `trainloader` in our list of ten `trainloaders`. It also prints the labels associated with each image (i.e., one of the ten possible labels we've seen above). If you run the cell again, you should see another batch of images.\n",
    "\n",
    "#### 2. 2. Define a Convolutional Neural Network"
   ]
  },
  {
   "cell_type": "code",
   "execution_count": 6,
   "id": "3356c5b6",
   "metadata": {},
   "outputs": [
    {
     "name": "stdout",
     "output_type": "stream",
     "text": [
      "torch.Size([6, 3, 5, 5])\n",
      "torch.Size([6])\n",
      "torch.Size([16, 6, 5, 5])\n",
      "torch.Size([16])\n",
      "torch.Size([120, 400])\n",
      "torch.Size([120])\n",
      "torch.Size([84, 120])\n",
      "torch.Size([84])\n",
      "torch.Size([10, 84])\n",
      "torch.Size([10])\n"
     ]
    }
   ],
   "source": [
    "network_model = Net()\n",
    "\n",
    "for param in network_model.parameters():\n",
    "    print(param.data.shape)\n"
   ]
  },
  {
   "cell_type": "markdown",
   "id": "243cbbd9",
   "metadata": {},
   "source": [
    "#### 2. 3. Define a Loss function and optimizer\n",
    "Let's use a Classification Cross-Entropy loss and SGD with momentum."
   ]
  },
  {
   "cell_type": "code",
   "execution_count": 7,
   "id": "ce398a6b",
   "metadata": {},
   "outputs": [],
   "source": [
    "criterion = nn.CrossEntropyLoss()\n",
    "optimizer = optim.SGD(network_model.parameters(), lr=0.001, momentum=0.9)"
   ]
  },
  {
   "cell_type": "markdown",
   "id": "d1727157",
   "metadata": {
    "id": "GDDxh73Sszck"
   },
   "source": [
    "#### 2. 4. Training the model\n",
    "\n",
    "We now have all the basic building blocks we need: a dataset, a model, a training function, and a test function. Let's put them together to train the model on the dataset of one of our organizations (`trainloaders[0]`). This simulates the reality of most machine learning projects today: each organization has their own data and trains models only on this internal data: "
   ]
  },
  {
   "cell_type": "code",
   "execution_count": 8,
   "id": "21a1d08d",
   "metadata": {
    "colab": {
     "base_uri": "https://localhost:8080/"
    },
    "executionInfo": {
     "elapsed": 20790,
     "status": "ok",
     "timestamp": 1672389445486,
     "user": {
      "displayName": "Santhosh Kumar Varanasi",
      "userId": "10492144900142893568"
     },
     "user_tz": -330
    },
    "id": "WdUTb8WgtRMz",
    "outputId": "664d4481-5825-43d6-a369-6837c67ab0d5"
   },
   "outputs": [
    {
     "name": "stdout",
     "output_type": "stream",
     "text": [
      "Epoch 1: Validation Loss: 0.06, Accuracy: 28.999999999999996%\n",
      "Epoch 2: Validation Loss: 0.06, Accuracy: 38.0%\n",
      "Epoch 3: Validation Loss: 0.05, Accuracy: 44.0%\n",
      "Epoch 4: Validation Loss: 0.05, Accuracy: 47.0%\n",
      "Epoch 5: Validation Loss: 0.05, Accuracy: 48.0%\n",
      "Epoch 6: Validation Loss: 0.07, Accuracy: 47.0%\n",
      "Epoch 7: Validation Loss: 0.12, Accuracy: 46.0%\n",
      "Epoch 8: Validation Loss: 0.16, Accuracy: 46.0%\n",
      "Epoch 9: Validation Loss: 0.19, Accuracy: 40.0%\n",
      "Epoch 10: Validation Loss: 0.21, Accuracy: 42.0%\n"
     ]
    }
   ],
   "source": [
    "for epoch in range(1, 11):\n",
    "    train(network_model, trainloaders[0], epoch)\n",
    "    loss, accuracy = test(network_model, valloaders[0])\n",
    "    \n",
    "    loss = round(loss, 2)\n",
    "    accuracy = round(accuracy, 2)\n",
    "    \n",
    "    print(f\"Epoch {epoch}: Validation Loss: {loss}, Accuracy: {accuracy*100}%\")"
   ]
  },
  {
   "cell_type": "markdown",
   "id": "f890200e",
   "metadata": {},
   "source": [
    "#### 2. 5. Test the network on the test data\n",
    "\n",
    "We have trained the network for 2 passes over the training dataset.\n",
    "But we need to check if the network has learnt anything at all.\n",
    "\n",
    "We will check this by predicting the class label that the neural network\n",
    "outputs, and checking it against the ground-truth. If the prediction is\n",
    "correct, we add the sample to the list of correct predictions."
   ]
  },
  {
   "cell_type": "code",
   "execution_count": 9,
   "id": "cc50fe52",
   "metadata": {},
   "outputs": [
    {
     "name": "stdout",
     "output_type": "stream",
     "text": [
      "\n",
      "Final test set performance:\n",
      "\tLoss 0.18\n",
      "\tAccuracy: 43.0%\n"
     ]
    }
   ],
   "source": [
    "loss, accuracy = test(network_model, testloaders[0])\n",
    "print(f\"\\nFinal test set performance:\\n\\tLoss {round(loss, 2)}\\n\\tAccuracy: {round(accuracy*100, 2)}%\")"
   ]
  },
  {
   "cell_type": "markdown",
   "id": "3dc4458e",
   "metadata": {},
   "source": [
    "---\n",
    "\n",
    "#### 2. 5. Annotate Data for Automatic DP\n",
    "\n",
    "Now we need to annotate our data with some Auto DP `(Automatic Differential Privacy)` metadata.\n",
    "\n",
    "In order to protect the `privacy` of the people within our dataset we first need to specify who those people are. \n",
    "\n",
    "To help obscure the variables someone may learn about these datasets we then need to set an appropriate `lower_bound`, and `upper_bound`.\n",
    "\n",
    "Once you have prepared your data, it’s time to upload it to your Domain Server.  To help Data Scientists later `search` and `discover` our datasets, we will add details like a `name` and a `description` of what this dataset represents."
   ]
  },
  {
   "cell_type": "code",
   "execution_count": 14,
   "id": "03eede78",
   "metadata": {},
   "outputs": [
    {
     "name": "stdout",
     "output_type": "stream",
     "text": [
      "\u001b[93mWARNING:\u001b[0m CHANGE YOUR USERNAME AND PASSWORD!!! \n",
      "\n",
      "Anyone can login as an admin to your node right now because your password is still the default PySyft username and password!!!\n",
      "\n",
      "Connecting to localhost... done! \t Logging into domain_1... done!\n"
     ]
    },
    {
     "data": {
      "text/html": [
       "(no datasets found)"
      ],
      "text/plain": [
       "<syft.core.node.common.client_manager.dataset_api.DatasetRequestAPI at 0x29ad83460>"
      ]
     },
     "execution_count": 14,
     "metadata": {},
     "output_type": "execute_result"
    }
   ],
   "source": [
    "domain1 = sy.login(email=\"info@openmined.org\", password=\"changethis\", port=8001)\n",
    "\n",
    "domain1.datasets"
   ]
  },
  {
   "cell_type": "code",
   "execution_count": 15,
   "id": "34203b30",
   "metadata": {},
   "outputs": [
    {
     "name": "stdout",
     "output_type": "stream",
     "text": [
      "\u001b[93mWARNING:\u001b[0m CHANGE YOUR USERNAME AND PASSWORD!!! \n",
      "\n",
      "Anyone can login as an admin to your node right now because your password is still the default PySyft username and password!!!\n",
      "\n",
      "Connecting to localhost... done! \t Logging into domain_2... done!\n"
     ]
    },
    {
     "data": {
      "text/html": [
       "(no datasets found)"
      ],
      "text/plain": [
       "<syft.core.node.common.client_manager.dataset_api.DatasetRequestAPI at 0x2b8d85640>"
      ]
     },
     "execution_count": 15,
     "metadata": {},
     "output_type": "execute_result"
    }
   ],
   "source": [
    "domain2 = sy.login(email=\"info@openmined.org\", password=\"changethis\", port=8002)\n",
    "\n",
    "domain2.datasets"
   ]
  },
  {
   "cell_type": "code",
   "execution_count": 16,
   "id": "9b14fd10",
   "metadata": {},
   "outputs": [
    {
     "name": "stderr",
     "output_type": "stream",
     "text": [
      "kj/filesystem-disk-unix.c++:1690: warning: PWD environment variable doesn't match current directory; pwd = /Users/neeleshkarthikeyan\n"
     ]
    },
    {
     "name": "stdout",
     "output_type": "stream",
     "text": [
      "Converting PyTorch tensor to numpy tensor for internal representation...\n",
      "Tensor annotated with DP Metadata!\n",
      "You can upload this Tensor to a domain node by calling `<domain_client>.load_dataset` and passing in this tensor as an asset.\n",
      "Loading dataset...\r",
      "Loading dataset... checking assets...\r",
      "Loading dataset... checking dataset name for uniqueness...\r",
      "Loading dataset... checking dataset name for uniqueness...                                                                                                                    \r",
      "Loading dataset... checking asset types...                              \r",
      "Loading dataset... uploading...🚀                        "
     ]
    },
    {
     "name": "stderr",
     "output_type": "stream",
     "text": [
      "Uploading `Weight 1`: 100%|\u001b[32m███████████████████████████████████████████\u001b[0m| 1/1 [00:00<00:00, 81.64it/s]\u001b[0m"
     ]
    },
    {
     "name": "stdout",
     "output_type": "stream",
     "text": [
      "\r",
      "Dataset is uploaded successfully !!! 🎉\n",
      "\n",
      "Run `<your client variable>.datasets` to see your new dataset loaded into your machine!\n",
      "Loading dataset...\r",
      "Loading dataset... checking assets...\r",
      "Loading dataset... checking dataset name for uniqueness...\r",
      "Loading dataset... checking dataset name for uniqueness...                                                                                                                    \r",
      "Loading dataset... checking asset types...                              \r",
      "Loading dataset... uploading...🚀                        "
     ]
    },
    {
     "name": "stderr",
     "output_type": "stream",
     "text": [
      "\n",
      "Uploading `Weight 1`: 100%|\u001b[32m██████████████████████████████████████████\u001b[0m| 1/1 [00:00<00:00, 150.02it/s]\u001b[0m\n"
     ]
    },
    {
     "name": "stdout",
     "output_type": "stream",
     "text": [
      "\r",
      "Dataset is uploaded successfully !!! 🎉\n",
      "\n",
      "Run `<your client variable>.datasets` to see your new dataset loaded into your machine!\n",
      "Converting PyTorch tensor to numpy tensor for internal representation...\n",
      "Tensor annotated with DP Metadata!\n",
      "You can upload this Tensor to a domain node by calling `<domain_client>.load_dataset` and passing in this tensor as an asset.\n",
      "Loading dataset...\r",
      "Loading dataset... checking assets...\r",
      "Loading dataset... checking dataset name for uniqueness...\r",
      "Loading dataset... checking dataset name for uniqueness...                                                                                                                    \r",
      "Loading dataset... checking asset types...                              \r",
      "Loading dataset... uploading...🚀                        "
     ]
    },
    {
     "name": "stderr",
     "output_type": "stream",
     "text": [
      "Uploading `Bias 1`: 100%|\u001b[32m████████████████████████████████████████████\u001b[0m| 1/1 [00:00<00:00, 185.12it/s]\u001b[0m\n"
     ]
    },
    {
     "name": "stdout",
     "output_type": "stream",
     "text": [
      "\r",
      "Dataset is uploaded successfully !!! 🎉\n",
      "\n",
      "Run `<your client variable>.datasets` to see your new dataset loaded into your machine!\n",
      "Loading dataset...\r",
      "Loading dataset... checking assets...\r",
      "Loading dataset... checking dataset name for uniqueness...\r",
      "Loading dataset... checking dataset name for uniqueness...                                                                                                                    \r",
      "Loading dataset... checking asset types...                              \r",
      "Loading dataset... uploading...🚀                        "
     ]
    },
    {
     "name": "stderr",
     "output_type": "stream",
     "text": [
      "Uploading `Bias 1`: 100%|\u001b[32m████████████████████████████████████████████\u001b[0m| 1/1 [00:00<00:00, 181.60it/s]\u001b[0m\n"
     ]
    },
    {
     "name": "stdout",
     "output_type": "stream",
     "text": [
      "\r",
      "Dataset is uploaded successfully !!! 🎉\n",
      "\n",
      "Run `<your client variable>.datasets` to see your new dataset loaded into your machine!\n",
      "Converting PyTorch tensor to numpy tensor for internal representation...\n",
      "Tensor annotated with DP Metadata!\n",
      "You can upload this Tensor to a domain node by calling `<domain_client>.load_dataset` and passing in this tensor as an asset.\n",
      "Loading dataset...\r",
      "Loading dataset... checking assets...\r",
      "Loading dataset... checking dataset name for uniqueness...\r",
      "Loading dataset... checking dataset name for uniqueness...                                                                                                                    \r",
      "Loading dataset... checking asset types...                              \r",
      "Loading dataset... uploading...🚀                        "
     ]
    },
    {
     "name": "stderr",
     "output_type": "stream",
     "text": [
      "Uploading `Weight 2`: 100%|\u001b[32m██████████████████████████████████████████\u001b[0m| 1/1 [00:00<00:00, 167.42it/s]\u001b[0m\n"
     ]
    },
    {
     "name": "stdout",
     "output_type": "stream",
     "text": [
      "\r",
      "Dataset is uploaded successfully !!! 🎉\n",
      "\n",
      "Run `<your client variable>.datasets` to see your new dataset loaded into your machine!\n",
      "Loading dataset...\r",
      "Loading dataset... checking assets...\r",
      "Loading dataset... checking dataset name for uniqueness...\r",
      "Loading dataset... checking dataset name for uniqueness...                                                                                                                    \r",
      "Loading dataset... checking asset types...                              \r",
      "Loading dataset... uploading...🚀                        "
     ]
    },
    {
     "name": "stderr",
     "output_type": "stream",
     "text": [
      "Uploading `Weight 2`: 100%|\u001b[32m██████████████████████████████████████████\u001b[0m| 1/1 [00:00<00:00, 193.31it/s]\u001b[0m\n"
     ]
    },
    {
     "name": "stdout",
     "output_type": "stream",
     "text": [
      "\r",
      "Dataset is uploaded successfully !!! 🎉\n",
      "\n",
      "Run `<your client variable>.datasets` to see your new dataset loaded into your machine!\n",
      "Converting PyTorch tensor to numpy tensor for internal representation...\n",
      "Tensor annotated with DP Metadata!\n",
      "You can upload this Tensor to a domain node by calling `<domain_client>.load_dataset` and passing in this tensor as an asset.\n",
      "Loading dataset...\r",
      "Loading dataset... checking assets...\r",
      "Loading dataset... checking dataset name for uniqueness...\r",
      "Loading dataset... checking dataset name for uniqueness...                                                                                                                    \r",
      "Loading dataset... checking asset types...                              \r",
      "Loading dataset... uploading...🚀                        "
     ]
    },
    {
     "name": "stderr",
     "output_type": "stream",
     "text": [
      "Uploading `Bias 2`: 100%|\u001b[32m████████████████████████████████████████████\u001b[0m| 1/1 [00:00<00:00, 213.58it/s]\u001b[0m\n"
     ]
    },
    {
     "name": "stdout",
     "output_type": "stream",
     "text": [
      "Dataset is uploaded successfully !!! 🎉\n",
      "\n",
      "Run `<your client variable>.datasets` to see your new dataset loaded into your machine!\n",
      "Loading dataset... uploading...🚀                                                                                                                                             "
     ]
    },
    {
     "name": "stderr",
     "output_type": "stream",
     "text": [
      "Uploading `Bias 2`: 100%|\u001b[32m████████████████████████████████████████████\u001b[0m| 1/1 [00:00<00:00, 200.68it/s]\u001b[0m\n"
     ]
    },
    {
     "name": "stdout",
     "output_type": "stream",
     "text": [
      "Dataset is uploaded successfully !!! 🎉\n",
      "\n",
      "Run `<your client variable>.datasets` to see your new dataset loaded into your machine!\n",
      "Converting PyTorch tensor to numpy tensor for internal representation...\n",
      "Tensor annotated with DP Metadata!\n",
      "You can upload this Tensor to a domain node by calling `<domain_client>.load_dataset` and passing in this tensor as an asset.\n",
      "Loading dataset... uploading...🚀                                                                                                                                             "
     ]
    },
    {
     "name": "stderr",
     "output_type": "stream",
     "text": [
      "Uploading `Weight 3`: 100%|\u001b[32m███████████████████████████████████████████\u001b[0m| 1/1 [00:00<00:00, 73.97it/s]\u001b[0m\n"
     ]
    },
    {
     "name": "stdout",
     "output_type": "stream",
     "text": [
      "\r",
      "Dataset is uploaded successfully !!! 🎉\n",
      "\n",
      "Run `<your client variable>.datasets` to see your new dataset loaded into your machine!\n",
      "Loading dataset...\r",
      "Loading dataset... checking assets...\r",
      "Loading dataset... checking dataset name for uniqueness...\r",
      "Loading dataset... checking dataset name for uniqueness...                                                                                                                    \r",
      "Loading dataset... checking asset types...                              \r",
      "Loading dataset... uploading...🚀                        "
     ]
    },
    {
     "name": "stderr",
     "output_type": "stream",
     "text": [
      "Uploading `Weight 3`: 100%|\u001b[32m███████████████████████████████████████████\u001b[0m| 1/1 [00:00<00:00, 98.58it/s]\u001b[0m\n"
     ]
    },
    {
     "name": "stdout",
     "output_type": "stream",
     "text": [
      "\r",
      "Dataset is uploaded successfully !!! 🎉\n",
      "\n",
      "Run `<your client variable>.datasets` to see your new dataset loaded into your machine!\n",
      "Converting PyTorch tensor to numpy tensor for internal representation...\n",
      "Tensor annotated with DP Metadata!\n",
      "You can upload this Tensor to a domain node by calling `<domain_client>.load_dataset` and passing in this tensor as an asset.\n",
      "Loading dataset...\r",
      "Loading dataset... checking assets...\r",
      "Loading dataset... checking dataset name for uniqueness...\r",
      "Loading dataset... checking dataset name for uniqueness...                                                                                                                    \r",
      "Loading dataset... checking asset types...                              \r",
      "Loading dataset... uploading...🚀                        "
     ]
    },
    {
     "name": "stderr",
     "output_type": "stream",
     "text": [
      "Uploading `Bias 3`: 100%|\u001b[32m████████████████████████████████████████████\u001b[0m| 1/1 [00:00<00:00, 181.66it/s]\u001b[0m\n"
     ]
    },
    {
     "name": "stdout",
     "output_type": "stream",
     "text": [
      "\r",
      "Dataset is uploaded successfully !!! 🎉\n",
      "\n",
      "Run `<your client variable>.datasets` to see your new dataset loaded into your machine!\n",
      "Loading dataset...\r",
      "Loading dataset... checking assets...\r",
      "Loading dataset... checking dataset name for uniqueness...\r",
      "Loading dataset... checking dataset name for uniqueness...                                                                                                                    \r",
      "Loading dataset... checking asset types...                              \r",
      "Loading dataset... uploading...🚀                        "
     ]
    },
    {
     "name": "stderr",
     "output_type": "stream",
     "text": [
      "Uploading `Bias 3`: 100%|\u001b[32m████████████████████████████████████████████\u001b[0m| 1/1 [00:00<00:00, 173.08it/s]\u001b[0m\n"
     ]
    },
    {
     "name": "stdout",
     "output_type": "stream",
     "text": [
      "\r",
      "Dataset is uploaded successfully !!! 🎉\n",
      "\n",
      "Run `<your client variable>.datasets` to see your new dataset loaded into your machine!\n",
      "Converting PyTorch tensor to numpy tensor for internal representation...\n",
      "Tensor annotated with DP Metadata!\n",
      "You can upload this Tensor to a domain node by calling `<domain_client>.load_dataset` and passing in this tensor as an asset.\n",
      "Loading dataset...\r",
      "Loading dataset... checking assets...\r",
      "Loading dataset... checking dataset name for uniqueness...\r",
      "Loading dataset... checking dataset name for uniqueness...                                                                                                                    \r",
      "Loading dataset... checking asset types...                              \r",
      "Loading dataset... uploading...🚀                        "
     ]
    },
    {
     "name": "stderr",
     "output_type": "stream",
     "text": [
      "Uploading `Weight 4`: 100%|\u001b[32m██████████████████████████████████████████\u001b[0m| 1/1 [00:00<00:00, 139.99it/s]\u001b[0m\n"
     ]
    },
    {
     "name": "stdout",
     "output_type": "stream",
     "text": [
      "\r",
      "Dataset is uploaded successfully !!! 🎉\n",
      "\n",
      "Run `<your client variable>.datasets` to see your new dataset loaded into your machine!\n",
      "Loading dataset...\r",
      "Loading dataset... checking assets...\r",
      "Loading dataset... checking dataset name for uniqueness...\r",
      "Loading dataset... checking dataset name for uniqueness...                                                                                                                    \r",
      "Loading dataset... checking asset types...                              \r",
      "Loading dataset... uploading...🚀                        "
     ]
    },
    {
     "name": "stderr",
     "output_type": "stream",
     "text": [
      "Uploading `Weight 4`: 100%|\u001b[32m██████████████████████████████████████████\u001b[0m| 1/1 [00:00<00:00, 157.43it/s]\u001b[0m\n"
     ]
    },
    {
     "name": "stdout",
     "output_type": "stream",
     "text": [
      "\r",
      "Dataset is uploaded successfully !!! 🎉\n",
      "\n",
      "Run `<your client variable>.datasets` to see your new dataset loaded into your machine!\n",
      "Converting PyTorch tensor to numpy tensor for internal representation...\n",
      "Tensor annotated with DP Metadata!\n",
      "You can upload this Tensor to a domain node by calling `<domain_client>.load_dataset` and passing in this tensor as an asset.\n",
      "Loading dataset...\r",
      "Loading dataset... checking assets...\r",
      "Loading dataset... checking dataset name for uniqueness...\r",
      "Loading dataset... checking dataset name for uniqueness...                                                                                                                    \r",
      "Loading dataset... checking asset types...                              \r",
      "Loading dataset... uploading...🚀                        "
     ]
    },
    {
     "name": "stderr",
     "output_type": "stream",
     "text": [
      "Uploading `Bias 4`: 100%|\u001b[32m████████████████████████████████████████████\u001b[0m| 1/1 [00:00<00:00, 190.11it/s]\u001b[0m\n"
     ]
    },
    {
     "name": "stdout",
     "output_type": "stream",
     "text": [
      "Dataset is uploaded successfully !!! 🎉\n",
      "\n",
      "Run `<your client variable>.datasets` to see your new dataset loaded into your machine!\n",
      "Loading dataset... uploading...🚀                                                                                                                                             "
     ]
    },
    {
     "name": "stderr",
     "output_type": "stream",
     "text": [
      "Uploading `Bias 4`: 100%|\u001b[32m████████████████████████████████████████████\u001b[0m| 1/1 [00:00<00:00, 164.94it/s]\u001b[0m\n"
     ]
    },
    {
     "name": "stdout",
     "output_type": "stream",
     "text": [
      "\r",
      "Dataset is uploaded successfully !!! 🎉\n",
      "\n",
      "Run `<your client variable>.datasets` to see your new dataset loaded into your machine!\n",
      "Converting PyTorch tensor to numpy tensor for internal representation...\n",
      "Tensor annotated with DP Metadata!\n",
      "You can upload this Tensor to a domain node by calling `<domain_client>.load_dataset` and passing in this tensor as an asset.\n",
      "Loading dataset...\r",
      "Loading dataset... checking assets...\r",
      "Loading dataset... checking dataset name for uniqueness...\r",
      "Loading dataset... checking dataset name for uniqueness...                                                                                                                    \r",
      "Loading dataset... checking asset types...                              \r",
      "Loading dataset... uploading...🚀                        "
     ]
    },
    {
     "name": "stderr",
     "output_type": "stream",
     "text": [
      "Uploading `Weight 5`: 100%|\u001b[32m██████████████████████████████████████████\u001b[0m| 1/1 [00:00<00:00, 220.27it/s]\u001b[0m\n"
     ]
    },
    {
     "name": "stdout",
     "output_type": "stream",
     "text": [
      "\r",
      "Dataset is uploaded successfully !!! 🎉\n",
      "\n",
      "Run `<your client variable>.datasets` to see your new dataset loaded into your machine!\n",
      "Loading dataset...\r",
      "Loading dataset... checking assets...\r",
      "Loading dataset... checking dataset name for uniqueness...\r",
      "Loading dataset... checking dataset name for uniqueness...                                                                                                                    \r",
      "Loading dataset... checking asset types...                              \r",
      "Loading dataset... uploading...🚀                        "
     ]
    },
    {
     "name": "stderr",
     "output_type": "stream",
     "text": [
      "Uploading `Weight 5`: 100%|\u001b[32m██████████████████████████████████████████\u001b[0m| 1/1 [00:00<00:00, 211.94it/s]\u001b[0m\n"
     ]
    },
    {
     "name": "stdout",
     "output_type": "stream",
     "text": [
      "\r",
      "Dataset is uploaded successfully !!! 🎉\n",
      "\n",
      "Run `<your client variable>.datasets` to see your new dataset loaded into your machine!\n",
      "Converting PyTorch tensor to numpy tensor for internal representation...\n",
      "Tensor annotated with DP Metadata!\n",
      "You can upload this Tensor to a domain node by calling `<domain_client>.load_dataset` and passing in this tensor as an asset.\n",
      "Loading dataset...\r",
      "Loading dataset... checking assets...\r",
      "Loading dataset... checking dataset name for uniqueness...\r",
      "Loading dataset... checking dataset name for uniqueness...                                                                                                                    \r",
      "Loading dataset... checking asset types...                              \r",
      "Loading dataset... uploading...🚀                        "
     ]
    },
    {
     "name": "stderr",
     "output_type": "stream",
     "text": [
      "Uploading `Bias 5`: 100%|\u001b[32m████████████████████████████████████████████\u001b[0m| 1/1 [00:00<00:00, 184.27it/s]\u001b[0m\n"
     ]
    },
    {
     "name": "stdout",
     "output_type": "stream",
     "text": [
      "\r",
      "Dataset is uploaded successfully !!! 🎉\n",
      "\n",
      "Run `<your client variable>.datasets` to see your new dataset loaded into your machine!\n",
      "Loading dataset...\r",
      "Loading dataset... checking assets...\r",
      "Loading dataset... checking dataset name for uniqueness...\r",
      "Loading dataset... checking dataset name for uniqueness...                                                                                                                    \r",
      "Loading dataset... checking asset types...                              \r",
      "Loading dataset... uploading...🚀                        "
     ]
    },
    {
     "name": "stderr",
     "output_type": "stream",
     "text": [
      "Uploading `Bias 5`: 100%|\u001b[32m████████████████████████████████████████████\u001b[0m| 1/1 [00:00<00:00, 177.85it/s]\u001b[0m\n"
     ]
    },
    {
     "name": "stdout",
     "output_type": "stream",
     "text": [
      "\r",
      "Dataset is uploaded successfully !!! 🎉\n",
      "\n",
      "Run `<your client variable>.datasets` to see your new dataset loaded into your machine!\n"
     ]
    }
   ],
   "source": [
    "i, j = 0, 0\n",
    "for layer in network_model.children():\n",
    "        \n",
    "    if \"weight\" in layer.state_dict():\n",
    "        i += 1\n",
    "            \n",
    "        model_weights = layer.state_dict()[\"weight\"]\n",
    "        weights_tensor = sy.Tensor(model_weights).annotate_with_dp_metadata(lower_bound=-1, upper_bound=1, data_subject=\"PyTorch Weights\")\n",
    "\n",
    "        domain1.load_dataset(assets={\"Weight {}\".format(i): weights_tensor},\n",
    "                              name=\"Initial Weight {}\".format(i),\n",
    "                              description=\"Initial PyTorch weights sent by Network.\")\n",
    "\n",
    "        domain2.load_dataset(assets={\"Weight {}\".format(i): weights_tensor},\n",
    "                              name=\"Initial Weight {}\".format(i),\n",
    "                              description=\"Initial PyTorch weights sent by Network.\")\n",
    "\n",
    "    if \"bias\" in layer.state_dict():\n",
    "        j += 1\n",
    "\n",
    "        model_bias = layer.state_dict()[\"bias\"]\n",
    "        bias_tensor = sy.Tensor(model_bias).annotate_with_dp_metadata(lower_bound=-1, upper_bound=1, data_subject=\"PyTorch Bias\")\n",
    "\n",
    "        domain1.load_dataset(assets={\"Bias {}\".format(j): bias_tensor},\n",
    "                              name=\"Initial Bias {}\".format(j),\n",
    "                              description=\"Initial PyTorch biases sent by Network.\")\n",
    "\n",
    "        domain2.load_dataset(assets={\"Bias {}\".format(j): bias_tensor},\n",
    "                              name=\"Initial Bias {}\".format(j),\n",
    "                              description=\"Initial PyTorch biases sent by Network.\")\n",
    "        "
   ]
  },
  {
   "cell_type": "code",
   "execution_count": 17,
   "id": "912c9d76",
   "metadata": {},
   "outputs": [
    {
     "data": {
      "text/html": [
       "<style>\n",
       "                #myInput {\n",
       "                  background-position: 10px 12px; /* Position the search icon */\n",
       "                  background-repeat: no-repeat; /* Do not repeat the icon image */\n",
       "                  background-color: #bbb;\n",
       "                  width: 98%; /* Full-width */\n",
       "                  font-size: 14px; /* Increase font-size */\n",
       "                  padding: 12px 20px 12px 40px; /* Add some padding */\n",
       "                  border: 1px solid #ddd; /* Add a grey border */\n",
       "                  margin-bottom: 12px; /* Add some space below the input */\n",
       "                }\n",
       "\n",
       "                #myTable {\n",
       "                  border-collapse: collapse; /* Collapse borders */\n",
       "                  width: 100%; /* Full-width */\n",
       "                  border: 1px solid #ddd; /* Add a grey border */\n",
       "                  font-size: 14px; /* Increase font-size */\n",
       "                }\n",
       "\n",
       "                #myTable th, #myTable td {\n",
       "                  text-align: left; /* Left-align text */\n",
       "                  padding: 10px; /* Add padding */\n",
       "                }\n",
       "\n",
       "                #myTable tr {\n",
       "                  /* Add a bottom border to all table rows */\n",
       "                  border-bottom: 1px solid #ddd;\n",
       "                }\n",
       "\n",
       "                #myTable tr.header, #myTable tr:hover {\n",
       "                  /* Add a grey background color to the table header and on hover */\n",
       "                  background-color: #777;\n",
       "                }\n",
       "                </style>\n",
       "\n",
       "                <table id=\"myTable\" style=\"width:1000px\">\n",
       "                  <tr class=\"header\">\n",
       "                    <th style=\"width:30px\">Idx</th>\n",
       "                    <th style=\"width:20%;\">Name</th>\n",
       "                    <th style=\"width:35%;\">Description</th>\n",
       "                    <th style=\"width:20%;\">Assets</th>\n",
       "                    <th style=\"width:300px;\">Id</th>\n",
       "                  </tr>\n",
       "                \n",
       "\n",
       "          <tr>\n",
       "            <td>[0]</td>\n",
       "            <td>Initial Weight 1</td>\n",
       "            <td>Initial PyTorch weights sent by Network.</td>\n",
       "            <td>[\"Weight 1\"] -> Tensor<br /><br /></td>\n",
       "            <td>6a7d9a50-768d-4b50-91c3-7afc378c3d44</td>\n",
       "          </tr>\n",
       "\n",
       "          <tr>\n",
       "            <td>[1]</td>\n",
       "            <td>Initial Bias 1</td>\n",
       "            <td>Initial PyTorch biases sent by Network.</td>\n",
       "            <td>[\"Bias 1\"] -> Tensor<br /><br /></td>\n",
       "            <td>863b2e56-f7ac-4c65-a6f6-cc1773d5df7f</td>\n",
       "          </tr>\n",
       "\n",
       "          <tr>\n",
       "            <td>[2]</td>\n",
       "            <td>Initial Weight 2</td>\n",
       "            <td>Initial PyTorch weights sent by Network.</td>\n",
       "            <td>[\"Weight 2\"] -> Tensor<br /><br /></td>\n",
       "            <td>2d8b86bf-6136-45be-a55e-b32f745b4d75</td>\n",
       "          </tr>\n",
       "\n",
       "          <tr>\n",
       "            <td>[3]</td>\n",
       "            <td>Initial Bias 2</td>\n",
       "            <td>Initial PyTorch biases sent by Network.</td>\n",
       "            <td>[\"Bias 2\"] -> Tensor<br /><br /></td>\n",
       "            <td>165b16f5-7d38-4e06-abac-ff8ac19538bb</td>\n",
       "          </tr>\n",
       "\n",
       "          <tr>\n",
       "            <td>[4]</td>\n",
       "            <td>Initial Weight 3</td>\n",
       "            <td>Initial PyTorch weights sent by Network.</td>\n",
       "            <td>[\"Weight 3\"] -> Tensor<br /><br /></td>\n",
       "            <td>73ba01b9-b2d7-4cfd-a2b2-78018420fcfa</td>\n",
       "          </tr>\n",
       "\n",
       "          <tr>\n",
       "            <td>[5]</td>\n",
       "            <td>Initial Bias 3</td>\n",
       "            <td>Initial PyTorch biases sent by Network.</td>\n",
       "            <td>[\"Bias 3\"] -> Tensor<br /><br /></td>\n",
       "            <td>712206ef-e926-4e5a-945a-2dfa0221bb9f</td>\n",
       "          </tr>\n",
       "\n",
       "          <tr>\n",
       "            <td>[6]</td>\n",
       "            <td>Initial Weight 4</td>\n",
       "            <td>Initial PyTorch weights sent by Network.</td>\n",
       "            <td>[\"Weight 4\"] -> Tensor<br /><br /></td>\n",
       "            <td>56bb309d-80b1-4197-ace7-d8ef1b123f6a</td>\n",
       "          </tr>\n",
       "\n",
       "          <tr>\n",
       "            <td>[7]</td>\n",
       "            <td>Initial Bias 4</td>\n",
       "            <td>Initial PyTorch biases sent by Network.</td>\n",
       "            <td>[\"Bias 4\"] -> Tensor<br /><br /></td>\n",
       "            <td>c553b5cd-6f5a-4a97-8f75-11a7df37e413</td>\n",
       "          </tr>\n",
       "\n",
       "          <tr>\n",
       "            <td>[8]</td>\n",
       "            <td>Initial Weight 5</td>\n",
       "            <td>Initial PyTorch weights sent by Network.</td>\n",
       "            <td>[\"Weight 5\"] -> Tensor<br /><br /></td>\n",
       "            <td>aebe0022-575e-4711-b5c6-40ce78072970</td>\n",
       "          </tr>\n",
       "\n",
       "          <tr>\n",
       "            <td>[9]</td>\n",
       "            <td>Initial Bias 5</td>\n",
       "            <td>Initial PyTorch biases sent by Network.</td>\n",
       "            <td>[\"Bias 5\"] -> Tensor<br /><br /></td>\n",
       "            <td>4be73095-2d88-4cee-851a-6e944927d2ed</td>\n",
       "          </tr>\n",
       "        </table>\n",
       "\n",
       "        <script>\n",
       "        function myFunction() {\n",
       "          // Declare variables\n",
       "          var input, filter, table, tr, td, i, txtValue;\n",
       "          input = document.getElementById(\"myInput\");\n",
       "          filter = input.value.toUpperCase();\n",
       "          table = document.getElementById(\"myTable\");\n",
       "          tr = table.getElementsByTagName(\"tr\");\n",
       "\n",
       "          // Loop through all table rows, and hide those who don't match the search query\n",
       "          for (i = 0; i < tr.length; i++) {\n",
       "            name_td = tr[i].getElementsByTagName(\"td\")[1];\n",
       "            desc_td = tr[i].getElementsByTagName(\"td\")[2];\n",
       "            asset_td = tr[i].getElementsByTagName(\"td\")[3];\n",
       "            id_td = tr[i].getElementsByTagName(\"td\")[4];\n",
       "            if (name_td || desc_td || asset_td || id_td) {\n",
       "              name_txtValue = name_td.textContent || name_td.innerText;\n",
       "              desc_txtValue = desc_td.textContent || name_td.innerText;\n",
       "              asset_txtValue = asset_td.textContent || name_td.innerText;\n",
       "              id_txtValue = id_td.textContent || name_td.innerText;\n",
       "              name_bool = name_txtValue.toUpperCase().indexOf(filter) > -1;\n",
       "              desc_bool = desc_txtValue.toUpperCase().indexOf(filter) > -1;\n",
       "              asset_bool = asset_txtValue.toUpperCase().indexOf(filter) > -1;\n",
       "              id_bool = id_txtValue.toUpperCase().indexOf(filter) > -1;\n",
       "              if (name_bool || desc_bool || asset_bool || id_bool) {\n",
       "                tr[i].style.display = \"\";\n",
       "              } else {\n",
       "                tr[i].style.display = \"none\";\n",
       "              }\n",
       "            }\n",
       "          }\n",
       "        }\n",
       "        </script>"
      ],
      "text/plain": [
       "<syft.core.node.common.client_manager.dataset_api.DatasetRequestAPI at 0x29ad83460>"
      ]
     },
     "execution_count": 17,
     "metadata": {},
     "output_type": "execute_result"
    }
   ],
   "source": [
    "domain1.datasets"
   ]
  },
  {
   "cell_type": "code",
   "execution_count": 18,
   "id": "a141198c",
   "metadata": {},
   "outputs": [
    {
     "data": {
      "text/html": [
       "<style>\n",
       "                #myInput {\n",
       "                  background-position: 10px 12px; /* Position the search icon */\n",
       "                  background-repeat: no-repeat; /* Do not repeat the icon image */\n",
       "                  background-color: #bbb;\n",
       "                  width: 98%; /* Full-width */\n",
       "                  font-size: 14px; /* Increase font-size */\n",
       "                  padding: 12px 20px 12px 40px; /* Add some padding */\n",
       "                  border: 1px solid #ddd; /* Add a grey border */\n",
       "                  margin-bottom: 12px; /* Add some space below the input */\n",
       "                }\n",
       "\n",
       "                #myTable {\n",
       "                  border-collapse: collapse; /* Collapse borders */\n",
       "                  width: 100%; /* Full-width */\n",
       "                  border: 1px solid #ddd; /* Add a grey border */\n",
       "                  font-size: 14px; /* Increase font-size */\n",
       "                }\n",
       "\n",
       "                #myTable th, #myTable td {\n",
       "                  text-align: left; /* Left-align text */\n",
       "                  padding: 10px; /* Add padding */\n",
       "                }\n",
       "\n",
       "                #myTable tr {\n",
       "                  /* Add a bottom border to all table rows */\n",
       "                  border-bottom: 1px solid #ddd;\n",
       "                }\n",
       "\n",
       "                #myTable tr.header, #myTable tr:hover {\n",
       "                  /* Add a grey background color to the table header and on hover */\n",
       "                  background-color: #777;\n",
       "                }\n",
       "                </style>\n",
       "\n",
       "                <table id=\"myTable\" style=\"width:1000px\">\n",
       "                  <tr class=\"header\">\n",
       "                    <th style=\"width:30px\">Idx</th>\n",
       "                    <th style=\"width:20%;\">Name</th>\n",
       "                    <th style=\"width:35%;\">Description</th>\n",
       "                    <th style=\"width:20%;\">Assets</th>\n",
       "                    <th style=\"width:300px;\">Id</th>\n",
       "                  </tr>\n",
       "                \n",
       "\n",
       "          <tr>\n",
       "            <td>[0]</td>\n",
       "            <td>Initial Weight 1</td>\n",
       "            <td>Initial PyTorch weights sent by Network.</td>\n",
       "            <td>[\"Weight 1\"] -> Tensor<br /><br /></td>\n",
       "            <td>5d4aed9b-2441-468d-bc06-cfb2f0fd61dc</td>\n",
       "          </tr>\n",
       "\n",
       "          <tr>\n",
       "            <td>[1]</td>\n",
       "            <td>Initial Bias 1</td>\n",
       "            <td>Initial PyTorch biases sent by Network.</td>\n",
       "            <td>[\"Bias 1\"] -> Tensor<br /><br /></td>\n",
       "            <td>209472e3-c907-432c-b8f7-f91076a31e70</td>\n",
       "          </tr>\n",
       "\n",
       "          <tr>\n",
       "            <td>[2]</td>\n",
       "            <td>Initial Weight 2</td>\n",
       "            <td>Initial PyTorch weights sent by Network.</td>\n",
       "            <td>[\"Weight 2\"] -> Tensor<br /><br /></td>\n",
       "            <td>3152fe92-039b-43f2-87d6-e01cad5151d0</td>\n",
       "          </tr>\n",
       "\n",
       "          <tr>\n",
       "            <td>[3]</td>\n",
       "            <td>Initial Bias 2</td>\n",
       "            <td>Initial PyTorch biases sent by Network.</td>\n",
       "            <td>[\"Bias 2\"] -> Tensor<br /><br /></td>\n",
       "            <td>262d9293-f797-4678-b13f-7b460b30546e</td>\n",
       "          </tr>\n",
       "\n",
       "          <tr>\n",
       "            <td>[4]</td>\n",
       "            <td>Initial Weight 3</td>\n",
       "            <td>Initial PyTorch weights sent by Network.</td>\n",
       "            <td>[\"Weight 3\"] -> Tensor<br /><br /></td>\n",
       "            <td>4ec8e1d5-484b-40c5-b40b-5c37e5815e3b</td>\n",
       "          </tr>\n",
       "\n",
       "          <tr>\n",
       "            <td>[5]</td>\n",
       "            <td>Initial Bias 3</td>\n",
       "            <td>Initial PyTorch biases sent by Network.</td>\n",
       "            <td>[\"Bias 3\"] -> Tensor<br /><br /></td>\n",
       "            <td>16296dd1-9080-4ae8-b357-04509720cf76</td>\n",
       "          </tr>\n",
       "\n",
       "          <tr>\n",
       "            <td>[6]</td>\n",
       "            <td>Initial Weight 4</td>\n",
       "            <td>Initial PyTorch weights sent by Network.</td>\n",
       "            <td>[\"Weight 4\"] -> Tensor<br /><br /></td>\n",
       "            <td>99758131-00f4-481c-8c05-ceee256c502c</td>\n",
       "          </tr>\n",
       "\n",
       "          <tr>\n",
       "            <td>[7]</td>\n",
       "            <td>Initial Bias 4</td>\n",
       "            <td>Initial PyTorch biases sent by Network.</td>\n",
       "            <td>[\"Bias 4\"] -> Tensor<br /><br /></td>\n",
       "            <td>91e81bc5-56db-4748-b651-ce8884d66ad0</td>\n",
       "          </tr>\n",
       "\n",
       "          <tr>\n",
       "            <td>[8]</td>\n",
       "            <td>Initial Weight 5</td>\n",
       "            <td>Initial PyTorch weights sent by Network.</td>\n",
       "            <td>[\"Weight 5\"] -> Tensor<br /><br /></td>\n",
       "            <td>1541bb33-a494-4d3a-9c75-4dac1f72157e</td>\n",
       "          </tr>\n",
       "\n",
       "          <tr>\n",
       "            <td>[9]</td>\n",
       "            <td>Initial Bias 5</td>\n",
       "            <td>Initial PyTorch biases sent by Network.</td>\n",
       "            <td>[\"Bias 5\"] -> Tensor<br /><br /></td>\n",
       "            <td>42293406-6359-48b2-a0f1-0f97f97afb19</td>\n",
       "          </tr>\n",
       "        </table>\n",
       "\n",
       "        <script>\n",
       "        function myFunction() {\n",
       "          // Declare variables\n",
       "          var input, filter, table, tr, td, i, txtValue;\n",
       "          input = document.getElementById(\"myInput\");\n",
       "          filter = input.value.toUpperCase();\n",
       "          table = document.getElementById(\"myTable\");\n",
       "          tr = table.getElementsByTagName(\"tr\");\n",
       "\n",
       "          // Loop through all table rows, and hide those who don't match the search query\n",
       "          for (i = 0; i < tr.length; i++) {\n",
       "            name_td = tr[i].getElementsByTagName(\"td\")[1];\n",
       "            desc_td = tr[i].getElementsByTagName(\"td\")[2];\n",
       "            asset_td = tr[i].getElementsByTagName(\"td\")[3];\n",
       "            id_td = tr[i].getElementsByTagName(\"td\")[4];\n",
       "            if (name_td || desc_td || asset_td || id_td) {\n",
       "              name_txtValue = name_td.textContent || name_td.innerText;\n",
       "              desc_txtValue = desc_td.textContent || name_td.innerText;\n",
       "              asset_txtValue = asset_td.textContent || name_td.innerText;\n",
       "              id_txtValue = id_td.textContent || name_td.innerText;\n",
       "              name_bool = name_txtValue.toUpperCase().indexOf(filter) > -1;\n",
       "              desc_bool = desc_txtValue.toUpperCase().indexOf(filter) > -1;\n",
       "              asset_bool = asset_txtValue.toUpperCase().indexOf(filter) > -1;\n",
       "              id_bool = id_txtValue.toUpperCase().indexOf(filter) > -1;\n",
       "              if (name_bool || desc_bool || asset_bool || id_bool) {\n",
       "                tr[i].style.display = \"\";\n",
       "              } else {\n",
       "                tr[i].style.display = \"none\";\n",
       "              }\n",
       "            }\n",
       "          }\n",
       "        }\n",
       "        </script>"
      ],
      "text/plain": [
       "<syft.core.node.common.client_manager.dataset_api.DatasetRequestAPI at 0x2b8d85640>"
      ]
     },
     "execution_count": 18,
     "metadata": {},
     "output_type": "execute_result"
    }
   ],
   "source": [
    "domain2.datasets"
   ]
  },
  {
   "cell_type": "markdown",
   "id": "9ec9e40f",
   "metadata": {
    "id": "a43f15fd"
   },
   "source": [
    "---\n",
    "\n",
    "# Section 3: Aggregate the Model Weights\n",
    "\n",
    "<h3 style=\"color:red;\">---------- Run the below cells after running Section 2 in Domain_1 and Domain_2 notebooks ----------</h3>"
   ]
  },
  {
   "cell_type": "code",
   "execution_count": 19,
   "id": "58c91b84",
   "metadata": {},
   "outputs": [
    {
     "name": "stdout",
     "output_type": "stream",
     "text": [
      "Converting PyTorch tensor to numpy tensor for internal representation...\n",
      "Tensor annotated with DP Metadata!\n",
      "You can upload this Tensor to a domain node by calling `<domain_client>.load_dataset` and passing in this tensor as an asset.\n",
      "Loading dataset...\r",
      "Loading dataset... checking assets...\r",
      "Loading dataset... checking dataset name for uniqueness...\r",
      "Loading dataset... checking dataset name for uniqueness...                                                                                                                    \r",
      "Loading dataset... checking asset types...                              \r",
      "Loading dataset... uploading...🚀                        "
     ]
    },
    {
     "name": "stderr",
     "output_type": "stream",
     "text": [
      "Uploading `Weight 1`: 100%|\u001b[32m██████████████████████████████████████████\u001b[0m| 1/1 [00:00<00:00, 158.48it/s]\u001b[0m\n"
     ]
    },
    {
     "name": "stdout",
     "output_type": "stream",
     "text": [
      "\r",
      "Dataset is uploaded successfully !!! 🎉\n",
      "\n",
      "Run `<your client variable>.datasets` to see your new dataset loaded into your machine!\n",
      "Loading dataset...\r",
      "Loading dataset... checking assets...\r",
      "Loading dataset... checking dataset name for uniqueness...\r",
      "Loading dataset... checking dataset name for uniqueness...                                                                                                                    \r",
      "Loading dataset... checking asset types...                              \r",
      "Loading dataset... uploading...🚀                        "
     ]
    },
    {
     "name": "stderr",
     "output_type": "stream",
     "text": [
      "Uploading `Weight 1`: 100%|\u001b[32m██████████████████████████████████████████\u001b[0m| 1/1 [00:00<00:00, 121.94it/s]\u001b[0m\n"
     ]
    },
    {
     "name": "stdout",
     "output_type": "stream",
     "text": [
      "Dataset is uploaded successfully !!! 🎉\n",
      "\n",
      "Run `<your client variable>.datasets` to see your new dataset loaded into your machine!\n",
      "Converting PyTorch tensor to numpy tensor for internal representation...\n",
      "Tensor annotated with DP Metadata!\n",
      "You can upload this Tensor to a domain node by calling `<domain_client>.load_dataset` and passing in this tensor as an asset.\n",
      "Loading dataset... uploading...🚀                                                                                                                                             "
     ]
    },
    {
     "name": "stderr",
     "output_type": "stream",
     "text": [
      "Uploading `Bias 1`: 100%|\u001b[32m████████████████████████████████████████████\u001b[0m| 1/1 [00:00<00:00, 145.75it/s]\u001b[0m\n"
     ]
    },
    {
     "name": "stdout",
     "output_type": "stream",
     "text": [
      "\r",
      "Dataset is uploaded successfully !!! 🎉\n",
      "\n",
      "Run `<your client variable>.datasets` to see your new dataset loaded into your machine!\n",
      "Loading dataset...\r",
      "Loading dataset... checking assets...\r",
      "Loading dataset... checking dataset name for uniqueness...\r",
      "Loading dataset... checking dataset name for uniqueness...                                                                                                                    \r",
      "Loading dataset... checking asset types...                              \r",
      "Loading dataset... uploading...🚀                        "
     ]
    },
    {
     "name": "stderr",
     "output_type": "stream",
     "text": [
      "Uploading `Bias 1`: 100%|\u001b[32m████████████████████████████████████████████\u001b[0m| 1/1 [00:00<00:00, 126.52it/s]\u001b[0m\n"
     ]
    },
    {
     "name": "stdout",
     "output_type": "stream",
     "text": [
      "Dataset is uploaded successfully !!! 🎉\n",
      "\n",
      "Run `<your client variable>.datasets` to see your new dataset loaded into your machine!\n",
      "Converting PyTorch tensor to numpy tensor for internal representation...\n",
      "Tensor annotated with DP Metadata!\n",
      "You can upload this Tensor to a domain node by calling `<domain_client>.load_dataset` and passing in this tensor as an asset.\n",
      "Loading dataset... uploading...🚀                                                                                                                                             "
     ]
    },
    {
     "name": "stderr",
     "output_type": "stream",
     "text": [
      "Uploading `Weight 2`: 100%|\u001b[32m██████████████████████████████████████████\u001b[0m| 1/1 [00:00<00:00, 176.28it/s]\u001b[0m\n"
     ]
    },
    {
     "name": "stdout",
     "output_type": "stream",
     "text": [
      "\r",
      "Dataset is uploaded successfully !!! 🎉\n",
      "\n",
      "Run `<your client variable>.datasets` to see your new dataset loaded into your machine!\n",
      "Loading dataset...\r",
      "Loading dataset... checking assets...\r",
      "Loading dataset... checking dataset name for uniqueness...\r",
      "Loading dataset... checking dataset name for uniqueness...                                                                                                                    \r",
      "Loading dataset... checking asset types...                              \r",
      "Loading dataset... uploading...🚀                        "
     ]
    },
    {
     "name": "stderr",
     "output_type": "stream",
     "text": [
      "Uploading `Weight 2`: 100%|\u001b[32m██████████████████████████████████████████\u001b[0m| 1/1 [00:00<00:00, 205.38it/s]\u001b[0m"
     ]
    },
    {
     "name": "stdout",
     "output_type": "stream",
     "text": [
      "\r",
      "Dataset is uploaded successfully !!! 🎉\n",
      "\n",
      "Run `<your client variable>.datasets` to see your new dataset loaded into your machine!\n"
     ]
    },
    {
     "name": "stderr",
     "output_type": "stream",
     "text": [
      "\n"
     ]
    },
    {
     "name": "stdout",
     "output_type": "stream",
     "text": [
      "Converting PyTorch tensor to numpy tensor for internal representation...\n",
      "Tensor annotated with DP Metadata!\n",
      "You can upload this Tensor to a domain node by calling `<domain_client>.load_dataset` and passing in this tensor as an asset.\n",
      "Loading dataset...\r",
      "Loading dataset... checking assets...\r",
      "Loading dataset... checking dataset name for uniqueness...\r",
      "Loading dataset... checking dataset name for uniqueness...                                                                                                                    \r",
      "Loading dataset... checking asset types...                              \r",
      "Loading dataset... uploading...🚀                        "
     ]
    },
    {
     "name": "stderr",
     "output_type": "stream",
     "text": [
      "Uploading `Bias 2`: 100%|\u001b[32m████████████████████████████████████████████\u001b[0m| 1/1 [00:00<00:00, 150.09it/s]\u001b[0m\n"
     ]
    },
    {
     "name": "stdout",
     "output_type": "stream",
     "text": [
      "\r",
      "Dataset is uploaded successfully !!! 🎉\n",
      "\n",
      "Run `<your client variable>.datasets` to see your new dataset loaded into your machine!\n",
      "Loading dataset...\r",
      "Loading dataset... checking assets...\r",
      "Loading dataset... checking dataset name for uniqueness...\r",
      "Loading dataset... checking dataset name for uniqueness...                                                                                                                    \r",
      "Loading dataset... checking asset types...                              \r",
      "Loading dataset... uploading...🚀                        "
     ]
    },
    {
     "name": "stderr",
     "output_type": "stream",
     "text": [
      "Uploading `Bias 2`: 100%|\u001b[32m████████████████████████████████████████████\u001b[0m| 1/1 [00:00<00:00, 162.78it/s]\u001b[0m"
     ]
    },
    {
     "name": "stdout",
     "output_type": "stream",
     "text": [
      "\r",
      "Dataset is uploaded successfully !!! 🎉\n",
      "\n",
      "Run `<your client variable>.datasets` to see your new dataset loaded into your machine!\n"
     ]
    },
    {
     "name": "stderr",
     "output_type": "stream",
     "text": [
      "\n"
     ]
    },
    {
     "name": "stdout",
     "output_type": "stream",
     "text": [
      "Converting PyTorch tensor to numpy tensor for internal representation...\n",
      "Tensor annotated with DP Metadata!\n",
      "You can upload this Tensor to a domain node by calling `<domain_client>.load_dataset` and passing in this tensor as an asset.\n",
      "Loading dataset...\r",
      "Loading dataset... checking assets...\r",
      "Loading dataset... checking dataset name for uniqueness...\r",
      "Loading dataset... checking dataset name for uniqueness...                                                                                                                    \r",
      "Loading dataset... checking asset types...                              \r",
      "Loading dataset... uploading...🚀                        "
     ]
    },
    {
     "name": "stderr",
     "output_type": "stream",
     "text": [
      "Uploading `Weight 3`: 100%|\u001b[32m███████████████████████████████████████████\u001b[0m| 1/1 [00:00<00:00, 81.65it/s]\u001b[0m\n"
     ]
    },
    {
     "name": "stdout",
     "output_type": "stream",
     "text": [
      "\r",
      "Dataset is uploaded successfully !!! 🎉\n",
      "\n",
      "Run `<your client variable>.datasets` to see your new dataset loaded into your machine!\n",
      "Loading dataset...\r",
      "Loading dataset... checking assets...\r",
      "Loading dataset... checking dataset name for uniqueness...\r",
      "Loading dataset... checking dataset name for uniqueness...                                                                                                                    \r",
      "Loading dataset... checking asset types...                              \r",
      "Loading dataset... uploading...🚀                        "
     ]
    },
    {
     "name": "stderr",
     "output_type": "stream",
     "text": [
      "Uploading `Weight 3`: 100%|\u001b[32m███████████████████████████████████████████\u001b[0m| 1/1 [00:00<00:00, 78.20it/s]\u001b[0m\n"
     ]
    },
    {
     "name": "stdout",
     "output_type": "stream",
     "text": [
      "Dataset is uploaded successfully !!! 🎉\n",
      "\n",
      "Run `<your client variable>.datasets` to see your new dataset loaded into your machine!\n",
      "Converting PyTorch tensor to numpy tensor for internal representation...\n",
      "Tensor annotated with DP Metadata!\n",
      "You can upload this Tensor to a domain node by calling `<domain_client>.load_dataset` and passing in this tensor as an asset.\n",
      "Loading dataset... uploading...🚀                                                                                                                                             "
     ]
    },
    {
     "name": "stderr",
     "output_type": "stream",
     "text": [
      "Uploading `Bias 3`: 100%|\u001b[32m████████████████████████████████████████████\u001b[0m| 1/1 [00:00<00:00, 186.88it/s]\u001b[0m\n"
     ]
    },
    {
     "name": "stdout",
     "output_type": "stream",
     "text": [
      "\r",
      "Dataset is uploaded successfully !!! 🎉\n",
      "\n",
      "Run `<your client variable>.datasets` to see your new dataset loaded into your machine!\n",
      "Loading dataset...\r",
      "Loading dataset... checking assets...\r",
      "Loading dataset... checking dataset name for uniqueness...\r",
      "Loading dataset... checking dataset name for uniqueness...                                                                                                                    \r",
      "Loading dataset... checking asset types...                              \r",
      "Loading dataset... uploading...🚀                        "
     ]
    },
    {
     "name": "stderr",
     "output_type": "stream",
     "text": [
      "Uploading `Bias 3`: 100%|\u001b[32m████████████████████████████████████████████\u001b[0m| 1/1 [00:00<00:00, 166.55it/s]\u001b[0m"
     ]
    },
    {
     "name": "stdout",
     "output_type": "stream",
     "text": [
      "\r",
      "Dataset is uploaded successfully !!! 🎉\n",
      "\n",
      "Run `<your client variable>.datasets` to see your new dataset loaded into your machine!\n"
     ]
    },
    {
     "name": "stderr",
     "output_type": "stream",
     "text": [
      "\n"
     ]
    },
    {
     "name": "stdout",
     "output_type": "stream",
     "text": [
      "Converting PyTorch tensor to numpy tensor for internal representation...\n",
      "Tensor annotated with DP Metadata!\n",
      "You can upload this Tensor to a domain node by calling `<domain_client>.load_dataset` and passing in this tensor as an asset.\n",
      "Loading dataset...\r",
      "Loading dataset... checking assets...\r",
      "Loading dataset... checking dataset name for uniqueness...\r",
      "Loading dataset... checking dataset name for uniqueness...                                                                                                                    \r",
      "Loading dataset... checking asset types...                              \r",
      "Loading dataset... uploading...🚀                        "
     ]
    },
    {
     "name": "stderr",
     "output_type": "stream",
     "text": [
      "Uploading `Weight 4`: 100%|\u001b[32m██████████████████████████████████████████\u001b[0m| 1/1 [00:00<00:00, 170.89it/s]\u001b[0m\n"
     ]
    },
    {
     "name": "stdout",
     "output_type": "stream",
     "text": [
      "\r",
      "Dataset is uploaded successfully !!! 🎉\n",
      "\n",
      "Run `<your client variable>.datasets` to see your new dataset loaded into your machine!\n",
      "Loading dataset...\r",
      "Loading dataset... checking assets...\r",
      "Loading dataset... checking dataset name for uniqueness...\r",
      "Loading dataset... checking dataset name for uniqueness...                                                                                                                    \r",
      "Loading dataset... checking asset types...                              \r",
      "Loading dataset... uploading...🚀                        "
     ]
    },
    {
     "name": "stderr",
     "output_type": "stream",
     "text": [
      "Uploading `Weight 4`: 100%|\u001b[32m██████████████████████████████████████████\u001b[0m| 1/1 [00:00<00:00, 164.53it/s]\u001b[0m"
     ]
    },
    {
     "name": "stdout",
     "output_type": "stream",
     "text": [
      "\r",
      "Dataset is uploaded successfully !!! 🎉\n",
      "\n",
      "Run `<your client variable>.datasets` to see your new dataset loaded into your machine!\n"
     ]
    },
    {
     "name": "stderr",
     "output_type": "stream",
     "text": [
      "\n"
     ]
    },
    {
     "name": "stdout",
     "output_type": "stream",
     "text": [
      "Converting PyTorch tensor to numpy tensor for internal representation...\n",
      "Tensor annotated with DP Metadata!\n",
      "You can upload this Tensor to a domain node by calling `<domain_client>.load_dataset` and passing in this tensor as an asset.\n",
      "Loading dataset...\r",
      "Loading dataset... checking assets...\r",
      "Loading dataset... checking dataset name for uniqueness...\r",
      "Loading dataset... checking dataset name for uniqueness...                                                                                                                    \r",
      "Loading dataset... checking asset types...                              \r",
      "Loading dataset... uploading...🚀                        "
     ]
    },
    {
     "name": "stderr",
     "output_type": "stream",
     "text": [
      "Uploading `Bias 4`: 100%|\u001b[32m████████████████████████████████████████████\u001b[0m| 1/1 [00:00<00:00, 216.36it/s]\u001b[0m\n"
     ]
    },
    {
     "name": "stdout",
     "output_type": "stream",
     "text": [
      "\r",
      "Dataset is uploaded successfully !!! 🎉\n",
      "\n",
      "Run `<your client variable>.datasets` to see your new dataset loaded into your machine!\n",
      "Loading dataset...\r",
      "Loading dataset... checking assets...\r",
      "Loading dataset... checking dataset name for uniqueness...\r",
      "Loading dataset... checking dataset name for uniqueness...                                                                                                                    \r",
      "Loading dataset... checking asset types...                              \r",
      "Loading dataset... uploading...🚀                        "
     ]
    },
    {
     "name": "stderr",
     "output_type": "stream",
     "text": [
      "Uploading `Bias 4`: 100%|\u001b[32m████████████████████████████████████████████\u001b[0m| 1/1 [00:00<00:00, 228.10it/s]\u001b[0m"
     ]
    },
    {
     "name": "stdout",
     "output_type": "stream",
     "text": [
      "\r",
      "Dataset is uploaded successfully !!! 🎉\n",
      "\n",
      "Run `<your client variable>.datasets` to see your new dataset loaded into your machine!\n"
     ]
    },
    {
     "name": "stderr",
     "output_type": "stream",
     "text": [
      "\n"
     ]
    },
    {
     "name": "stdout",
     "output_type": "stream",
     "text": [
      "Converting PyTorch tensor to numpy tensor for internal representation...\n",
      "Tensor annotated with DP Metadata!\n",
      "You can upload this Tensor to a domain node by calling `<domain_client>.load_dataset` and passing in this tensor as an asset.\n",
      "Loading dataset...\r",
      "Loading dataset... checking assets...\r",
      "Loading dataset... checking dataset name for uniqueness...\r",
      "Loading dataset... checking dataset name for uniqueness...                                                                                                                    \r",
      "Loading dataset... checking asset types...                              \r",
      "Loading dataset... uploading...🚀                        "
     ]
    },
    {
     "name": "stderr",
     "output_type": "stream",
     "text": [
      "Uploading `Weight 5`: 100%|\u001b[32m██████████████████████████████████████████\u001b[0m| 1/1 [00:00<00:00, 201.17it/s]\u001b[0m\n"
     ]
    },
    {
     "name": "stdout",
     "output_type": "stream",
     "text": [
      "\r",
      "Dataset is uploaded successfully !!! 🎉\n",
      "\n",
      "Run `<your client variable>.datasets` to see your new dataset loaded into your machine!\n",
      "Loading dataset...\r",
      "Loading dataset... checking assets...\r",
      "Loading dataset... checking dataset name for uniqueness...\r",
      "Loading dataset... checking dataset name for uniqueness...                                                                                                                    \r",
      "Loading dataset... checking asset types...                              \r",
      "Loading dataset... uploading...🚀                        "
     ]
    },
    {
     "name": "stderr",
     "output_type": "stream",
     "text": [
      "Uploading `Weight 5`: 100%|\u001b[32m██████████████████████████████████████████\u001b[0m| 1/1 [00:00<00:00, 223.13it/s]\u001b[0m"
     ]
    },
    {
     "name": "stdout",
     "output_type": "stream",
     "text": [
      "\r",
      "Dataset is uploaded successfully !!! 🎉\n",
      "\n",
      "Run `<your client variable>.datasets` to see your new dataset loaded into your machine!\n"
     ]
    },
    {
     "name": "stderr",
     "output_type": "stream",
     "text": [
      "\n"
     ]
    },
    {
     "name": "stdout",
     "output_type": "stream",
     "text": [
      "Converting PyTorch tensor to numpy tensor for internal representation...\n",
      "Tensor annotated with DP Metadata!\n",
      "You can upload this Tensor to a domain node by calling `<domain_client>.load_dataset` and passing in this tensor as an asset.\n",
      "Loading dataset...\r",
      "Loading dataset... checking assets...\r",
      "Loading dataset... checking dataset name for uniqueness...\r",
      "Loading dataset... checking dataset name for uniqueness...                                                                                                                    \r",
      "Loading dataset... checking asset types...                              \r",
      "Loading dataset... uploading...🚀                        "
     ]
    },
    {
     "name": "stderr",
     "output_type": "stream",
     "text": [
      "Uploading `Bias 5`: 100%|\u001b[32m████████████████████████████████████████████\u001b[0m| 1/1 [00:00<00:00, 148.90it/s]\u001b[0m\n"
     ]
    },
    {
     "name": "stdout",
     "output_type": "stream",
     "text": [
      "\r",
      "Dataset is uploaded successfully !!! 🎉\n",
      "\n",
      "Run `<your client variable>.datasets` to see your new dataset loaded into your machine!\n",
      "Loading dataset...\r",
      "Loading dataset... checking assets...\r",
      "Loading dataset... checking dataset name for uniqueness...\r",
      "Loading dataset... checking dataset name for uniqueness...                                                                                                                    \r",
      "Loading dataset... checking asset types...                              \r",
      "Loading dataset... uploading...🚀                        "
     ]
    },
    {
     "name": "stderr",
     "output_type": "stream",
     "text": [
      "Uploading `Bias 5`: 100%|\u001b[32m████████████████████████████████████████████\u001b[0m| 1/1 [00:00<00:00, 164.83it/s]\u001b[0m"
     ]
    },
    {
     "name": "stdout",
     "output_type": "stream",
     "text": [
      "\r",
      "Dataset is uploaded successfully !!! 🎉\n",
      "\n",
      "Run `<your client variable>.datasets` to see your new dataset loaded into your machine!\n"
     ]
    },
    {
     "name": "stderr",
     "output_type": "stream",
     "text": [
      "\n"
     ]
    }
   ],
   "source": [
    "j = 1\n",
    "\n",
    "for i in range(10, 20):\n",
    "    \n",
    "    if i % 2 == 0:\n",
    "        weight_1 = domain1.datasets[i][\"Weight {}\".format(j)].get().child.value\n",
    "        weight_2 = domain2.datasets[i][\"Weight {}\".format(j)].get().child.value\n",
    "        mean_weights = torch.FloatTensor(np.mean(np.array([weight_1, weight_2]), axis=0))\n",
    "        \n",
    "        weights_tensor = sy.Tensor(mean_weights).annotate_with_dp_metadata(lower_bound=-1, \n",
    "                                                                           upper_bound=1, \n",
    "                                                                           data_subject=\"PyTorch Weights\")\n",
    "        \n",
    "        domain1.load_dataset(assets={\"Weight {}\".format(j): weights_tensor},\n",
    "                              name=\"Final Weight {}\".format(j),\n",
    "                              description=\"Final PyTorch weights sent by Network.\")\n",
    "\n",
    "        domain2.load_dataset(assets={\"Weight {}\".format(j): weights_tensor},\n",
    "                              name=\"Final Weight {}\".format(j),\n",
    "                              description=\"Final PyTorch weights sent by Network.\")\n",
    "\n",
    "            \n",
    "    else:\n",
    "        bias_1 = domain1.datasets[i][\"Bias {}\".format(j)].get().child.value\n",
    "        bias_2 = domain1.datasets[i][\"Bias {}\".format(j)].get().child.value\n",
    "        mean_bias = torch.FloatTensor(np.mean(np.array([bias_1, bias_2]), axis=0))\n",
    "        \n",
    "        bias_tensor = sy.Tensor(mean_bias).annotate_with_dp_metadata(lower_bound=-1, \n",
    "                                                                     upper_bound=1, \n",
    "                                                                     data_subject=\"PyTorch Bias\")\n",
    "\n",
    "        domain1.load_dataset(assets={\"Bias {}\".format(j): bias_tensor},\n",
    "                              name=\"Final Bias {}\".format(j),\n",
    "                              description=\"Final PyTorch biases sent by Network.\")\n",
    "\n",
    "        domain2.load_dataset(assets={\"Bias {}\".format(j): bias_tensor},\n",
    "                              name=\"Final Bias {}\".format(j),\n",
    "                              description=\"Final PyTorch biases sent by Network.\")\n",
    "        \n",
    "        j += 1\n",
    "    \n",
    "    "
   ]
  },
  {
   "cell_type": "code",
   "execution_count": 20,
   "id": "ed369ea6",
   "metadata": {},
   "outputs": [
    {
     "data": {
      "text/html": [
       "<style>\n",
       "                #myInput {\n",
       "                  background-position: 10px 12px; /* Position the search icon */\n",
       "                  background-repeat: no-repeat; /* Do not repeat the icon image */\n",
       "                  background-color: #bbb;\n",
       "                  width: 98%; /* Full-width */\n",
       "                  font-size: 14px; /* Increase font-size */\n",
       "                  padding: 12px 20px 12px 40px; /* Add some padding */\n",
       "                  border: 1px solid #ddd; /* Add a grey border */\n",
       "                  margin-bottom: 12px; /* Add some space below the input */\n",
       "                }\n",
       "\n",
       "                #myTable {\n",
       "                  border-collapse: collapse; /* Collapse borders */\n",
       "                  width: 100%; /* Full-width */\n",
       "                  border: 1px solid #ddd; /* Add a grey border */\n",
       "                  font-size: 14px; /* Increase font-size */\n",
       "                }\n",
       "\n",
       "                #myTable th, #myTable td {\n",
       "                  text-align: left; /* Left-align text */\n",
       "                  padding: 10px; /* Add padding */\n",
       "                }\n",
       "\n",
       "                #myTable tr {\n",
       "                  /* Add a bottom border to all table rows */\n",
       "                  border-bottom: 1px solid #ddd;\n",
       "                }\n",
       "\n",
       "                #myTable tr.header, #myTable tr:hover {\n",
       "                  /* Add a grey background color to the table header and on hover */\n",
       "                  background-color: #777;\n",
       "                }\n",
       "                </style>\n",
       "\n",
       "                <table id=\"myTable\" style=\"width:1000px\">\n",
       "                  <tr class=\"header\">\n",
       "                    <th style=\"width:30px\">Idx</th>\n",
       "                    <th style=\"width:20%;\">Name</th>\n",
       "                    <th style=\"width:35%;\">Description</th>\n",
       "                    <th style=\"width:20%;\">Assets</th>\n",
       "                    <th style=\"width:300px;\">Id</th>\n",
       "                  </tr>\n",
       "                \n",
       "\n",
       "          <tr>\n",
       "            <td>[0]</td>\n",
       "            <td>Initial Weight 1</td>\n",
       "            <td>Initial PyTorch weights sent by Network.</td>\n",
       "            <td>[\"Weight 1\"] -> Tensor<br /><br /></td>\n",
       "            <td>6a7d9a50-768d-4b50-91c3-7afc378c3d44</td>\n",
       "          </tr>\n",
       "\n",
       "          <tr>\n",
       "            <td>[1]</td>\n",
       "            <td>Initial Bias 1</td>\n",
       "            <td>Initial PyTorch biases sent by Network.</td>\n",
       "            <td>[\"Bias 1\"] -> Tensor<br /><br /></td>\n",
       "            <td>863b2e56-f7ac-4c65-a6f6-cc1773d5df7f</td>\n",
       "          </tr>\n",
       "\n",
       "          <tr>\n",
       "            <td>[2]</td>\n",
       "            <td>Initial Weight 2</td>\n",
       "            <td>Initial PyTorch weights sent by Network.</td>\n",
       "            <td>[\"Weight 2\"] -> Tensor<br /><br /></td>\n",
       "            <td>2d8b86bf-6136-45be-a55e-b32f745b4d75</td>\n",
       "          </tr>\n",
       "\n",
       "          <tr>\n",
       "            <td>[3]</td>\n",
       "            <td>Initial Bias 2</td>\n",
       "            <td>Initial PyTorch biases sent by Network.</td>\n",
       "            <td>[\"Bias 2\"] -> Tensor<br /><br /></td>\n",
       "            <td>165b16f5-7d38-4e06-abac-ff8ac19538bb</td>\n",
       "          </tr>\n",
       "\n",
       "          <tr>\n",
       "            <td>[4]</td>\n",
       "            <td>Initial Weight 3</td>\n",
       "            <td>Initial PyTorch weights sent by Network.</td>\n",
       "            <td>[\"Weight 3\"] -> Tensor<br /><br /></td>\n",
       "            <td>73ba01b9-b2d7-4cfd-a2b2-78018420fcfa</td>\n",
       "          </tr>\n",
       "\n",
       "          <tr>\n",
       "            <td>[5]</td>\n",
       "            <td>Initial Bias 3</td>\n",
       "            <td>Initial PyTorch biases sent by Network.</td>\n",
       "            <td>[\"Bias 3\"] -> Tensor<br /><br /></td>\n",
       "            <td>712206ef-e926-4e5a-945a-2dfa0221bb9f</td>\n",
       "          </tr>\n",
       "\n",
       "          <tr>\n",
       "            <td>[6]</td>\n",
       "            <td>Initial Weight 4</td>\n",
       "            <td>Initial PyTorch weights sent by Network.</td>\n",
       "            <td>[\"Weight 4\"] -> Tensor<br /><br /></td>\n",
       "            <td>56bb309d-80b1-4197-ace7-d8ef1b123f6a</td>\n",
       "          </tr>\n",
       "\n",
       "          <tr>\n",
       "            <td>[7]</td>\n",
       "            <td>Initial Bias 4</td>\n",
       "            <td>Initial PyTorch biases sent by Network.</td>\n",
       "            <td>[\"Bias 4\"] -> Tensor<br /><br /></td>\n",
       "            <td>c553b5cd-6f5a-4a97-8f75-11a7df37e413</td>\n",
       "          </tr>\n",
       "\n",
       "          <tr>\n",
       "            <td>[8]</td>\n",
       "            <td>Initial Weight 5</td>\n",
       "            <td>Initial PyTorch weights sent by Network.</td>\n",
       "            <td>[\"Weight 5\"] -> Tensor<br /><br /></td>\n",
       "            <td>aebe0022-575e-4711-b5c6-40ce78072970</td>\n",
       "          </tr>\n",
       "\n",
       "          <tr>\n",
       "            <td>[9]</td>\n",
       "            <td>Initial Bias 5</td>\n",
       "            <td>Initial PyTorch biases sent by Network.</td>\n",
       "            <td>[\"Bias 5\"] -> Tensor<br /><br /></td>\n",
       "            <td>4be73095-2d88-4cee-851a-6e944927d2ed</td>\n",
       "          </tr>\n",
       "\n",
       "          <tr>\n",
       "            <td>[10]</td>\n",
       "            <td>Domain Weight 1</td>\n",
       "            <td>Updated PyTorch weights sent by Domain.</td>\n",
       "            <td>[\"Weight 1\"] -> Tensor<br /><br /></td>\n",
       "            <td>614858ad-b33a-4008-8d24-672c70121780</td>\n",
       "          </tr>\n",
       "\n",
       "          <tr>\n",
       "            <td>[11]</td>\n",
       "            <td>Domain Bias 1</td>\n",
       "            <td>Updated PyTorch biases sent by Domain.</td>\n",
       "            <td>[\"Bias 1\"] -> Tensor<br /><br /></td>\n",
       "            <td>b2c9af52-6f22-4f0a-8d8a-ed39c3851f89</td>\n",
       "          </tr>\n",
       "\n",
       "          <tr>\n",
       "            <td>[12]</td>\n",
       "            <td>Domain Weight 2</td>\n",
       "            <td>Updated PyTorch weights sent by Domain.</td>\n",
       "            <td>[\"Weight 2\"] -> Tensor<br /><br /></td>\n",
       "            <td>8857f0fa-1d99-4dbe-b499-eb8c0dd596d2</td>\n",
       "          </tr>\n",
       "\n",
       "          <tr>\n",
       "            <td>[13]</td>\n",
       "            <td>Domain Bias 2</td>\n",
       "            <td>Updated PyTorch biases sent by Domain.</td>\n",
       "            <td>[\"Bias 2\"] -> Tensor<br /><br /></td>\n",
       "            <td>9096e2e0-423d-4af1-bbbe-4d017723f625</td>\n",
       "          </tr>\n",
       "\n",
       "          <tr>\n",
       "            <td>[14]</td>\n",
       "            <td>Domain Weight 3</td>\n",
       "            <td>Updated PyTorch weights sent by Domain.</td>\n",
       "            <td>[\"Weight 3\"] -> Tensor<br /><br /></td>\n",
       "            <td>a3e7bf86-5bc9-425d-9603-2f03a4d0b814</td>\n",
       "          </tr>\n",
       "\n",
       "          <tr>\n",
       "            <td>[15]</td>\n",
       "            <td>Domain Bias 3</td>\n",
       "            <td>Updated PyTorch biases sent by Domain.</td>\n",
       "            <td>[\"Bias 3\"] -> Tensor<br /><br /></td>\n",
       "            <td>9e7a34ae-29c8-4668-8571-31b75b6f64c4</td>\n",
       "          </tr>\n",
       "\n",
       "          <tr>\n",
       "            <td>[16]</td>\n",
       "            <td>Domain Weight 4</td>\n",
       "            <td>Updated PyTorch weights sent by Domain.</td>\n",
       "            <td>[\"Weight 4\"] -> Tensor<br /><br /></td>\n",
       "            <td>7be5e2aa-f9e9-49a7-86b9-e68d5c29146e</td>\n",
       "          </tr>\n",
       "\n",
       "          <tr>\n",
       "            <td>[17]</td>\n",
       "            <td>Domain Bias 4</td>\n",
       "            <td>Updated PyTorch biases sent by Domain.</td>\n",
       "            <td>[\"Bias 4\"] -> Tensor<br /><br /></td>\n",
       "            <td>91e89d00-ab7c-4f87-adba-50d615ba3f05</td>\n",
       "          </tr>\n",
       "\n",
       "          <tr>\n",
       "            <td>[18]</td>\n",
       "            <td>Domain Weight 5</td>\n",
       "            <td>Updated PyTorch weights sent by Domain.</td>\n",
       "            <td>[\"Weight 5\"] -> Tensor<br /><br /></td>\n",
       "            <td>4fa4a5e5-e81e-4c8d-b932-c127856d09c2</td>\n",
       "          </tr>\n",
       "\n",
       "          <tr>\n",
       "            <td>[19]</td>\n",
       "            <td>Domain Bias 5</td>\n",
       "            <td>Updated PyTorch biases sent by Domain.</td>\n",
       "            <td>[\"Bias 5\"] -> Tensor<br /><br /></td>\n",
       "            <td>f5181b55-0365-45c7-b9b1-47d23aba4a15</td>\n",
       "          </tr>\n",
       "\n",
       "          <tr>\n",
       "            <td>[20]</td>\n",
       "            <td>Final Weight 1</td>\n",
       "            <td>Final PyTorch weights sent by Network.</td>\n",
       "            <td>[\"Weight 1\"] -> Tensor<br /><br /></td>\n",
       "            <td>8cabe5d4-ad6e-4b22-9306-bdb8f398c5cf</td>\n",
       "          </tr>\n",
       "\n",
       "          <tr>\n",
       "            <td>[21]</td>\n",
       "            <td>Final Bias 1</td>\n",
       "            <td>Final PyTorch biases sent by Network.</td>\n",
       "            <td>[\"Bias 1\"] -> Tensor<br /><br /></td>\n",
       "            <td>53aba067-d05d-4030-8719-d83bb81622b0</td>\n",
       "          </tr>\n",
       "\n",
       "          <tr>\n",
       "            <td>[22]</td>\n",
       "            <td>Final Weight 2</td>\n",
       "            <td>Final PyTorch weights sent by Network.</td>\n",
       "            <td>[\"Weight 2\"] -> Tensor<br /><br /></td>\n",
       "            <td>870b8ecc-0110-4d13-8f26-96532f9a4cef</td>\n",
       "          </tr>\n",
       "\n",
       "          <tr>\n",
       "            <td>[23]</td>\n",
       "            <td>Final Bias 2</td>\n",
       "            <td>Final PyTorch biases sent by Network.</td>\n",
       "            <td>[\"Bias 2\"] -> Tensor<br /><br /></td>\n",
       "            <td>51706c68-e988-4a17-a14e-703c697644e5</td>\n",
       "          </tr>\n",
       "\n",
       "          <tr>\n",
       "            <td>[24]</td>\n",
       "            <td>Final Weight 3</td>\n",
       "            <td>Final PyTorch weights sent by Network.</td>\n",
       "            <td>[\"Weight 3\"] -> Tensor<br /><br /></td>\n",
       "            <td>ddabccbc-c1f8-42a7-8636-cf3ff8215417</td>\n",
       "          </tr>\n",
       "\n",
       "          <tr>\n",
       "            <td>[25]</td>\n",
       "            <td>Final Bias 3</td>\n",
       "            <td>Final PyTorch biases sent by Network.</td>\n",
       "            <td>[\"Bias 3\"] -> Tensor<br /><br /></td>\n",
       "            <td>0b623c60-db21-4e5e-a910-0cf57677448d</td>\n",
       "          </tr>\n",
       "\n",
       "          <tr>\n",
       "            <td>[26]</td>\n",
       "            <td>Final Weight 4</td>\n",
       "            <td>Final PyTorch weights sent by Network.</td>\n",
       "            <td>[\"Weight 4\"] -> Tensor<br /><br /></td>\n",
       "            <td>282500ef-f507-4419-8de6-4429fac48d8d</td>\n",
       "          </tr>\n",
       "\n",
       "          <tr>\n",
       "            <td>[27]</td>\n",
       "            <td>Final Bias 4</td>\n",
       "            <td>Final PyTorch biases sent by Network.</td>\n",
       "            <td>[\"Bias 4\"] -> Tensor<br /><br /></td>\n",
       "            <td>e4880dc0-62bf-4c67-83eb-e3e26beaf3ae</td>\n",
       "          </tr>\n",
       "\n",
       "          <tr>\n",
       "            <td>[28]</td>\n",
       "            <td>Final Weight 5</td>\n",
       "            <td>Final PyTorch weights sent by Network.</td>\n",
       "            <td>[\"Weight 5\"] -> Tensor<br /><br /></td>\n",
       "            <td>3ab1c181-e650-493e-8fcb-6f9bbef029b8</td>\n",
       "          </tr>\n",
       "\n",
       "          <tr>\n",
       "            <td>[29]</td>\n",
       "            <td>Final Bias 5</td>\n",
       "            <td>Final PyTorch biases sent by Network.</td>\n",
       "            <td>[\"Bias 5\"] -> Tensor<br /><br /></td>\n",
       "            <td>afb23130-f640-4cbf-b6e2-b7365256130e</td>\n",
       "          </tr>\n",
       "        </table>\n",
       "\n",
       "        <script>\n",
       "        function myFunction() {\n",
       "          // Declare variables\n",
       "          var input, filter, table, tr, td, i, txtValue;\n",
       "          input = document.getElementById(\"myInput\");\n",
       "          filter = input.value.toUpperCase();\n",
       "          table = document.getElementById(\"myTable\");\n",
       "          tr = table.getElementsByTagName(\"tr\");\n",
       "\n",
       "          // Loop through all table rows, and hide those who don't match the search query\n",
       "          for (i = 0; i < tr.length; i++) {\n",
       "            name_td = tr[i].getElementsByTagName(\"td\")[1];\n",
       "            desc_td = tr[i].getElementsByTagName(\"td\")[2];\n",
       "            asset_td = tr[i].getElementsByTagName(\"td\")[3];\n",
       "            id_td = tr[i].getElementsByTagName(\"td\")[4];\n",
       "            if (name_td || desc_td || asset_td || id_td) {\n",
       "              name_txtValue = name_td.textContent || name_td.innerText;\n",
       "              desc_txtValue = desc_td.textContent || name_td.innerText;\n",
       "              asset_txtValue = asset_td.textContent || name_td.innerText;\n",
       "              id_txtValue = id_td.textContent || name_td.innerText;\n",
       "              name_bool = name_txtValue.toUpperCase().indexOf(filter) > -1;\n",
       "              desc_bool = desc_txtValue.toUpperCase().indexOf(filter) > -1;\n",
       "              asset_bool = asset_txtValue.toUpperCase().indexOf(filter) > -1;\n",
       "              id_bool = id_txtValue.toUpperCase().indexOf(filter) > -1;\n",
       "              if (name_bool || desc_bool || asset_bool || id_bool) {\n",
       "                tr[i].style.display = \"\";\n",
       "              } else {\n",
       "                tr[i].style.display = \"none\";\n",
       "              }\n",
       "            }\n",
       "          }\n",
       "        }\n",
       "        </script>"
      ],
      "text/plain": [
       "<syft.core.node.common.client_manager.dataset_api.DatasetRequestAPI at 0x29ad83460>"
      ]
     },
     "execution_count": 20,
     "metadata": {},
     "output_type": "execute_result"
    }
   ],
   "source": [
    "domain1.datasets"
   ]
  },
  {
   "cell_type": "code",
   "execution_count": 21,
   "id": "406dda36",
   "metadata": {},
   "outputs": [
    {
     "data": {
      "text/html": [
       "<style>\n",
       "                #myInput {\n",
       "                  background-position: 10px 12px; /* Position the search icon */\n",
       "                  background-repeat: no-repeat; /* Do not repeat the icon image */\n",
       "                  background-color: #bbb;\n",
       "                  width: 98%; /* Full-width */\n",
       "                  font-size: 14px; /* Increase font-size */\n",
       "                  padding: 12px 20px 12px 40px; /* Add some padding */\n",
       "                  border: 1px solid #ddd; /* Add a grey border */\n",
       "                  margin-bottom: 12px; /* Add some space below the input */\n",
       "                }\n",
       "\n",
       "                #myTable {\n",
       "                  border-collapse: collapse; /* Collapse borders */\n",
       "                  width: 100%; /* Full-width */\n",
       "                  border: 1px solid #ddd; /* Add a grey border */\n",
       "                  font-size: 14px; /* Increase font-size */\n",
       "                }\n",
       "\n",
       "                #myTable th, #myTable td {\n",
       "                  text-align: left; /* Left-align text */\n",
       "                  padding: 10px; /* Add padding */\n",
       "                }\n",
       "\n",
       "                #myTable tr {\n",
       "                  /* Add a bottom border to all table rows */\n",
       "                  border-bottom: 1px solid #ddd;\n",
       "                }\n",
       "\n",
       "                #myTable tr.header, #myTable tr:hover {\n",
       "                  /* Add a grey background color to the table header and on hover */\n",
       "                  background-color: #777;\n",
       "                }\n",
       "                </style>\n",
       "\n",
       "                <table id=\"myTable\" style=\"width:1000px\">\n",
       "                  <tr class=\"header\">\n",
       "                    <th style=\"width:30px\">Idx</th>\n",
       "                    <th style=\"width:20%;\">Name</th>\n",
       "                    <th style=\"width:35%;\">Description</th>\n",
       "                    <th style=\"width:20%;\">Assets</th>\n",
       "                    <th style=\"width:300px;\">Id</th>\n",
       "                  </tr>\n",
       "                \n",
       "\n",
       "          <tr>\n",
       "            <td>[0]</td>\n",
       "            <td>Initial Weight 1</td>\n",
       "            <td>Initial PyTorch weights sent by Network.</td>\n",
       "            <td>[\"Weight 1\"] -> Tensor<br /><br /></td>\n",
       "            <td>5d4aed9b-2441-468d-bc06-cfb2f0fd61dc</td>\n",
       "          </tr>\n",
       "\n",
       "          <tr>\n",
       "            <td>[1]</td>\n",
       "            <td>Initial Bias 1</td>\n",
       "            <td>Initial PyTorch biases sent by Network.</td>\n",
       "            <td>[\"Bias 1\"] -> Tensor<br /><br /></td>\n",
       "            <td>209472e3-c907-432c-b8f7-f91076a31e70</td>\n",
       "          </tr>\n",
       "\n",
       "          <tr>\n",
       "            <td>[2]</td>\n",
       "            <td>Initial Weight 2</td>\n",
       "            <td>Initial PyTorch weights sent by Network.</td>\n",
       "            <td>[\"Weight 2\"] -> Tensor<br /><br /></td>\n",
       "            <td>3152fe92-039b-43f2-87d6-e01cad5151d0</td>\n",
       "          </tr>\n",
       "\n",
       "          <tr>\n",
       "            <td>[3]</td>\n",
       "            <td>Initial Bias 2</td>\n",
       "            <td>Initial PyTorch biases sent by Network.</td>\n",
       "            <td>[\"Bias 2\"] -> Tensor<br /><br /></td>\n",
       "            <td>262d9293-f797-4678-b13f-7b460b30546e</td>\n",
       "          </tr>\n",
       "\n",
       "          <tr>\n",
       "            <td>[4]</td>\n",
       "            <td>Initial Weight 3</td>\n",
       "            <td>Initial PyTorch weights sent by Network.</td>\n",
       "            <td>[\"Weight 3\"] -> Tensor<br /><br /></td>\n",
       "            <td>4ec8e1d5-484b-40c5-b40b-5c37e5815e3b</td>\n",
       "          </tr>\n",
       "\n",
       "          <tr>\n",
       "            <td>[5]</td>\n",
       "            <td>Initial Bias 3</td>\n",
       "            <td>Initial PyTorch biases sent by Network.</td>\n",
       "            <td>[\"Bias 3\"] -> Tensor<br /><br /></td>\n",
       "            <td>16296dd1-9080-4ae8-b357-04509720cf76</td>\n",
       "          </tr>\n",
       "\n",
       "          <tr>\n",
       "            <td>[6]</td>\n",
       "            <td>Initial Weight 4</td>\n",
       "            <td>Initial PyTorch weights sent by Network.</td>\n",
       "            <td>[\"Weight 4\"] -> Tensor<br /><br /></td>\n",
       "            <td>99758131-00f4-481c-8c05-ceee256c502c</td>\n",
       "          </tr>\n",
       "\n",
       "          <tr>\n",
       "            <td>[7]</td>\n",
       "            <td>Initial Bias 4</td>\n",
       "            <td>Initial PyTorch biases sent by Network.</td>\n",
       "            <td>[\"Bias 4\"] -> Tensor<br /><br /></td>\n",
       "            <td>91e81bc5-56db-4748-b651-ce8884d66ad0</td>\n",
       "          </tr>\n",
       "\n",
       "          <tr>\n",
       "            <td>[8]</td>\n",
       "            <td>Initial Weight 5</td>\n",
       "            <td>Initial PyTorch weights sent by Network.</td>\n",
       "            <td>[\"Weight 5\"] -> Tensor<br /><br /></td>\n",
       "            <td>1541bb33-a494-4d3a-9c75-4dac1f72157e</td>\n",
       "          </tr>\n",
       "\n",
       "          <tr>\n",
       "            <td>[9]</td>\n",
       "            <td>Initial Bias 5</td>\n",
       "            <td>Initial PyTorch biases sent by Network.</td>\n",
       "            <td>[\"Bias 5\"] -> Tensor<br /><br /></td>\n",
       "            <td>42293406-6359-48b2-a0f1-0f97f97afb19</td>\n",
       "          </tr>\n",
       "\n",
       "          <tr>\n",
       "            <td>[10]</td>\n",
       "            <td>Domain Weight 1</td>\n",
       "            <td>Updated PyTorch weights sent by Domain.</td>\n",
       "            <td>[\"Weight 1\"] -> Tensor<br /><br /></td>\n",
       "            <td>d77f439a-c543-491d-bd0f-30500a005432</td>\n",
       "          </tr>\n",
       "\n",
       "          <tr>\n",
       "            <td>[11]</td>\n",
       "            <td>Domain Bias 1</td>\n",
       "            <td>Updated PyTorch biases sent by Domain.</td>\n",
       "            <td>[\"Bias 1\"] -> Tensor<br /><br /></td>\n",
       "            <td>caf68cf1-ea9a-401b-ae64-e13d247baa4d</td>\n",
       "          </tr>\n",
       "\n",
       "          <tr>\n",
       "            <td>[12]</td>\n",
       "            <td>Domain Weight 2</td>\n",
       "            <td>Updated PyTorch weights sent by Domain.</td>\n",
       "            <td>[\"Weight 2\"] -> Tensor<br /><br /></td>\n",
       "            <td>0fb772c2-d51a-41bf-bf6c-150d7ffa8013</td>\n",
       "          </tr>\n",
       "\n",
       "          <tr>\n",
       "            <td>[13]</td>\n",
       "            <td>Domain Bias 2</td>\n",
       "            <td>Updated PyTorch biases sent by Domain.</td>\n",
       "            <td>[\"Bias 2\"] -> Tensor<br /><br /></td>\n",
       "            <td>f8ba7c4c-3444-4e83-9e61-8d4110746a5b</td>\n",
       "          </tr>\n",
       "\n",
       "          <tr>\n",
       "            <td>[14]</td>\n",
       "            <td>Domain Weight 3</td>\n",
       "            <td>Updated PyTorch weights sent by Domain.</td>\n",
       "            <td>[\"Weight 3\"] -> Tensor<br /><br /></td>\n",
       "            <td>139093c7-7cdf-423a-93e6-604e360b5244</td>\n",
       "          </tr>\n",
       "\n",
       "          <tr>\n",
       "            <td>[15]</td>\n",
       "            <td>Domain Bias 3</td>\n",
       "            <td>Updated PyTorch biases sent by Domain.</td>\n",
       "            <td>[\"Bias 3\"] -> Tensor<br /><br /></td>\n",
       "            <td>3bc415fe-0b16-4643-944e-f33aece74ad2</td>\n",
       "          </tr>\n",
       "\n",
       "          <tr>\n",
       "            <td>[16]</td>\n",
       "            <td>Domain Weight 4</td>\n",
       "            <td>Updated PyTorch weights sent by Domain.</td>\n",
       "            <td>[\"Weight 4\"] -> Tensor<br /><br /></td>\n",
       "            <td>e7555f44-ed13-41e6-afb0-fa424ab8ada0</td>\n",
       "          </tr>\n",
       "\n",
       "          <tr>\n",
       "            <td>[17]</td>\n",
       "            <td>Domain Bias 4</td>\n",
       "            <td>Updated PyTorch biases sent by Domain.</td>\n",
       "            <td>[\"Bias 4\"] -> Tensor<br /><br /></td>\n",
       "            <td>eb3463ee-0488-43b7-8e4b-a4bde85b7cb8</td>\n",
       "          </tr>\n",
       "\n",
       "          <tr>\n",
       "            <td>[18]</td>\n",
       "            <td>Domain Weight 5</td>\n",
       "            <td>Updated PyTorch weights sent by Domain.</td>\n",
       "            <td>[\"Weight 5\"] -> Tensor<br /><br /></td>\n",
       "            <td>3dbd163b-b843-4e80-835e-e5c4c24d5fb4</td>\n",
       "          </tr>\n",
       "\n",
       "          <tr>\n",
       "            <td>[19]</td>\n",
       "            <td>Domain Bias 5</td>\n",
       "            <td>Updated PyTorch biases sent by Domain.</td>\n",
       "            <td>[\"Bias 5\"] -> Tensor<br /><br /></td>\n",
       "            <td>44046f17-016a-41e8-a0b3-08fb2099ca66</td>\n",
       "          </tr>\n",
       "\n",
       "          <tr>\n",
       "            <td>[20]</td>\n",
       "            <td>Final Weight 1</td>\n",
       "            <td>Final PyTorch weights sent by Network.</td>\n",
       "            <td>[\"Weight 1\"] -> Tensor<br /><br /></td>\n",
       "            <td>57bff453-4f21-4fea-b515-467f05a80ced</td>\n",
       "          </tr>\n",
       "\n",
       "          <tr>\n",
       "            <td>[21]</td>\n",
       "            <td>Final Bias 1</td>\n",
       "            <td>Final PyTorch biases sent by Network.</td>\n",
       "            <td>[\"Bias 1\"] -> Tensor<br /><br /></td>\n",
       "            <td>341804e0-5834-46e3-9092-e64a9d342398</td>\n",
       "          </tr>\n",
       "\n",
       "          <tr>\n",
       "            <td>[22]</td>\n",
       "            <td>Final Weight 2</td>\n",
       "            <td>Final PyTorch weights sent by Network.</td>\n",
       "            <td>[\"Weight 2\"] -> Tensor<br /><br /></td>\n",
       "            <td>7878e698-59d4-4b84-b639-6fb52f976622</td>\n",
       "          </tr>\n",
       "\n",
       "          <tr>\n",
       "            <td>[23]</td>\n",
       "            <td>Final Bias 2</td>\n",
       "            <td>Final PyTorch biases sent by Network.</td>\n",
       "            <td>[\"Bias 2\"] -> Tensor<br /><br /></td>\n",
       "            <td>f4a8b317-f11f-4e5b-b588-ef3d265900a7</td>\n",
       "          </tr>\n",
       "\n",
       "          <tr>\n",
       "            <td>[24]</td>\n",
       "            <td>Final Weight 3</td>\n",
       "            <td>Final PyTorch weights sent by Network.</td>\n",
       "            <td>[\"Weight 3\"] -> Tensor<br /><br /></td>\n",
       "            <td>620c9fba-d1eb-49e7-b344-23a46bba5d45</td>\n",
       "          </tr>\n",
       "\n",
       "          <tr>\n",
       "            <td>[25]</td>\n",
       "            <td>Final Bias 3</td>\n",
       "            <td>Final PyTorch biases sent by Network.</td>\n",
       "            <td>[\"Bias 3\"] -> Tensor<br /><br /></td>\n",
       "            <td>462d7425-5245-459a-a1d3-b0cb467867db</td>\n",
       "          </tr>\n",
       "\n",
       "          <tr>\n",
       "            <td>[26]</td>\n",
       "            <td>Final Weight 4</td>\n",
       "            <td>Final PyTorch weights sent by Network.</td>\n",
       "            <td>[\"Weight 4\"] -> Tensor<br /><br /></td>\n",
       "            <td>781e277a-4327-4c66-8481-91817659a694</td>\n",
       "          </tr>\n",
       "\n",
       "          <tr>\n",
       "            <td>[27]</td>\n",
       "            <td>Final Bias 4</td>\n",
       "            <td>Final PyTorch biases sent by Network.</td>\n",
       "            <td>[\"Bias 4\"] -> Tensor<br /><br /></td>\n",
       "            <td>95052399-a67d-4ef9-ad21-76dec2f0ffd8</td>\n",
       "          </tr>\n",
       "\n",
       "          <tr>\n",
       "            <td>[28]</td>\n",
       "            <td>Final Weight 5</td>\n",
       "            <td>Final PyTorch weights sent by Network.</td>\n",
       "            <td>[\"Weight 5\"] -> Tensor<br /><br /></td>\n",
       "            <td>4305ffeb-d065-423f-b6d7-76eb850e69e4</td>\n",
       "          </tr>\n",
       "\n",
       "          <tr>\n",
       "            <td>[29]</td>\n",
       "            <td>Final Bias 5</td>\n",
       "            <td>Final PyTorch biases sent by Network.</td>\n",
       "            <td>[\"Bias 5\"] -> Tensor<br /><br /></td>\n",
       "            <td>2928f9bb-045a-4a76-81f8-6a6bdf786b58</td>\n",
       "          </tr>\n",
       "        </table>\n",
       "\n",
       "        <script>\n",
       "        function myFunction() {\n",
       "          // Declare variables\n",
       "          var input, filter, table, tr, td, i, txtValue;\n",
       "          input = document.getElementById(\"myInput\");\n",
       "          filter = input.value.toUpperCase();\n",
       "          table = document.getElementById(\"myTable\");\n",
       "          tr = table.getElementsByTagName(\"tr\");\n",
       "\n",
       "          // Loop through all table rows, and hide those who don't match the search query\n",
       "          for (i = 0; i < tr.length; i++) {\n",
       "            name_td = tr[i].getElementsByTagName(\"td\")[1];\n",
       "            desc_td = tr[i].getElementsByTagName(\"td\")[2];\n",
       "            asset_td = tr[i].getElementsByTagName(\"td\")[3];\n",
       "            id_td = tr[i].getElementsByTagName(\"td\")[4];\n",
       "            if (name_td || desc_td || asset_td || id_td) {\n",
       "              name_txtValue = name_td.textContent || name_td.innerText;\n",
       "              desc_txtValue = desc_td.textContent || name_td.innerText;\n",
       "              asset_txtValue = asset_td.textContent || name_td.innerText;\n",
       "              id_txtValue = id_td.textContent || name_td.innerText;\n",
       "              name_bool = name_txtValue.toUpperCase().indexOf(filter) > -1;\n",
       "              desc_bool = desc_txtValue.toUpperCase().indexOf(filter) > -1;\n",
       "              asset_bool = asset_txtValue.toUpperCase().indexOf(filter) > -1;\n",
       "              id_bool = id_txtValue.toUpperCase().indexOf(filter) > -1;\n",
       "              if (name_bool || desc_bool || asset_bool || id_bool) {\n",
       "                tr[i].style.display = \"\";\n",
       "              } else {\n",
       "                tr[i].style.display = \"none\";\n",
       "              }\n",
       "            }\n",
       "          }\n",
       "        }\n",
       "        </script>"
      ],
      "text/plain": [
       "<syft.core.node.common.client_manager.dataset_api.DatasetRequestAPI at 0x2b8d85640>"
      ]
     },
     "execution_count": 21,
     "metadata": {},
     "output_type": "execute_result"
    }
   ],
   "source": [
    "domain2.datasets"
   ]
  },
  {
   "cell_type": "markdown",
   "id": "11ef92de",
   "metadata": {},
   "source": [
    "<h3 style=\"color:red;\">--------------- Run Section 3 in Domain_1 and Domain_2 notebooks ---------------</h3>"
   ]
  }
 ],
 "metadata": {
  "colab": {
   "provenance": []
  },
  "kernelspec": {
   "display_name": "Python 3 (ipykernel)",
   "language": "python",
   "name": "python3"
  },
  "language_info": {
   "codemirror_mode": {
    "name": "ipython",
    "version": 3
   },
   "file_extension": ".py",
   "mimetype": "text/x-python",
   "name": "python",
   "nbconvert_exporter": "python",
   "pygments_lexer": "ipython3",
   "version": "3.9.0"
  }
 },
 "nbformat": 4,
 "nbformat_minor": 5
}
